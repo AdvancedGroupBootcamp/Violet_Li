{
 "cells": [
  {
   "cell_type": "code",
   "execution_count": 1,
   "metadata": {},
   "outputs": [
    {
     "name": "stderr",
     "output_type": "stream",
     "text": [
      "e:\\Anaconda3\\envs\\Object_Detection\\lib\\site-packages\\tqdm\\auto.py:22: TqdmWarning: IProgress not found. Please update jupyter and ipywidgets. See https://ipywidgets.readthedocs.io/en/stable/user_install.html\n",
      "  from .autonotebook import tqdm as notebook_tqdm\n"
     ]
    },
    {
     "name": "stdout",
     "output_type": "stream",
     "text": [
      "Setup complete. Using torch 1.13.0 (NVIDIA GeForce MX230)\n"
     ]
    }
   ],
   "source": [
    "import torch\n",
    "import os\n",
    "from IPython.display import Image, clear_output  # to display images\n",
    "\n",
    "print(f\"Setup complete. Using torch {torch.__version__} ({torch.cuda.get_device_properties(0).name if torch.cuda.is_available() else 'CPU'})\")\n"
   ]
  },
  {
   "cell_type": "code",
   "execution_count": 2,
   "metadata": {},
   "outputs": [
    {
     "name": "stderr",
     "output_type": "stream",
     "text": [
      "Traceback (most recent call last):\n",
      "  File \"train.py\", line 66, in <module>\n",
      "    GIT_INFO = check_git_info()\n",
      "  File \"e:\\Anaconda3\\envs\\Object_Detection\\lib\\contextlib.py\", line 75, in inner\n",
      "    return func(*args, **kwds)\n",
      "  File \"d:\\Violet\\2022Fall\\AI\\ObjectDetection\\codes\\yolov5\\utils\\general.py\", line 354, in check_git_info\n",
      "    commit = repo.head.commit.hexsha  # i.e. '3134699c73af83aac2a481435550b968d5792c0d'\n",
      "  File \"e:\\Anaconda3\\envs\\Object_Detection\\lib\\site-packages\\git\\refs\\symbolic.py\", line 226, in _get_commit\n",
      "    obj = self._get_object()\n",
      "  File \"e:\\Anaconda3\\envs\\Object_Detection\\lib\\site-packages\\git\\refs\\symbolic.py\", line 219, in _get_object\n",
      "    return Object.new_from_sha(self.repo, hex_to_bin(self.dereference_recursive(self.repo, self.path)))\n",
      "  File \"e:\\Anaconda3\\envs\\Object_Detection\\lib\\site-packages\\git\\objects\\base.py\", line 94, in new_from_sha\n",
      "    oinfo = repo.odb.info(sha1)\n",
      "  File \"e:\\Anaconda3\\envs\\Object_Detection\\lib\\site-packages\\git\\db.py\", line 40, in info\n",
      "    hexsha, typename, size = self._git.get_object_header(bin_to_hex(binsha))\n",
      "  File \"e:\\Anaconda3\\envs\\Object_Detection\\lib\\site-packages\\git\\cmd.py\", line 1338, in get_object_header\n",
      "    return self.__get_object_header(cmd, ref)\n",
      "  File \"e:\\Anaconda3\\envs\\Object_Detection\\lib\\site-packages\\git\\cmd.py\", line 1325, in __get_object_header\n",
      "    return self._parse_object_header(cmd.stdout.readline())\n",
      "  File \"e:\\Anaconda3\\envs\\Object_Detection\\lib\\site-packages\\git\\cmd.py\", line 1284, in _parse_object_header\n",
      "    raise ValueError(\"SHA could not be resolved, git returned: %r\" % (header_line.strip()))\n",
      "ValueError: SHA could not be resolved, git returned: b''\n"
     ]
    }
   ],
   "source": [
    "!python train.py --img 640 --batch 16 --epochs 3 --data card.yaml --weights yolov5s.pt --cache"
   ]
  },
  {
   "cell_type": "code",
   "execution_count": null,
   "metadata": {},
   "outputs": [],
   "source": []
  }
 ],
 "metadata": {
  "kernelspec": {
   "display_name": "Python 3.8.0 ('Object_Detection')",
   "language": "python",
   "name": "python3"
  },
  "language_info": {
   "codemirror_mode": {
    "name": "ipython",
    "version": 3
   },
   "file_extension": ".py",
   "mimetype": "text/x-python",
   "name": "python",
   "nbconvert_exporter": "python",
   "pygments_lexer": "ipython3",
   "version": "3.8.15"
  },
  "orig_nbformat": 4,
  "vscode": {
   "interpreter": {
    "hash": "1af49eac78945dc96188bcc8a0c31e96313db58aa2970f30b0df9c6ac219acfd"
   }
  }
 },
 "nbformat": 4,
 "nbformat_minor": 2
}
