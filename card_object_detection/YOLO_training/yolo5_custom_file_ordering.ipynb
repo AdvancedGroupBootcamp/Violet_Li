{
 "cells": [
  {
   "cell_type": "code",
   "execution_count": 7,
   "metadata": {},
   "outputs": [],
   "source": [
    "from os import walk\n",
    "import random\n",
    "import os\n",
    "import shutil\n",
    "new_dir_base=r'D:\\Violet\\2022Fall\\AI\\ObjectDetection\\dataset'"
   ]
  },
  {
   "cell_type": "code",
   "execution_count": 2,
   "metadata": {},
   "outputs": [
    {
     "name": "stdout",
     "output_type": "stream",
     "text": [
      "2757\n",
      "2757\n"
     ]
    }
   ],
   "source": [
    "f = []\n",
    "base_dir = 'D:\\Violet\\2022Fall\\AI\\ObjectDetection\\dataset'\n",
    "img_base_dir='D:\\Violet\\2022Fall\\AI\\ObjectDetection\\Images\\Images'\n",
    "label_base_dir ='D:\\Violet\\2022Fall\\AI\\ObjectDetection\\YOLO_Annotations\\YOLO_Annotations'\n",
    "for (dirpath, dirnames, filenames) in walk(r'D:\\Violet\\2022Fall\\AI\\ObjectDetection\\Images\\Images'):\n",
    "    f.extend(filenames)\n",
    "    break\n",
    "\n",
    "print(len(f))\n",
    "\n",
    "\n",
    "a = []\n",
    "for (dirpath, dirnames, filenames) in walk(r'D:\\Violet\\2022Fall\\AI\\ObjectDetection\\YOLO_Annotations\\YOLO_Annotations'):\n",
    "    a.extend(filenames)\n",
    "    break\n",
    "\n",
    "print(len(a))"
   ]
  },
  {
   "cell_type": "code",
   "execution_count": 3,
   "metadata": {},
   "outputs": [
    {
     "name": "stdout",
     "output_type": "stream",
     "text": [
      "['10C0.jpg', '10C1.jpg', '10C10.jpg', '10C11.jpg', '10C12.jpg']\n",
      "['5D12.jpg', '4D10.jpg', '7H6.jpg', 'QD17.jpg', '3H19.jpg']\n",
      "train size: 2205\n",
      "val size: 276\n",
      "test size: 276\n"
     ]
    }
   ],
   "source": [
    "print(f[:5])\n",
    "random.shuffle(f)\n",
    "print(f[:5])\n",
    "\n",
    "\n",
    "train_files = f[:int(0.8*len(f))]\n",
    "val_test_files = f[int(0.8*len(f)):]\n",
    "val_files=val_test_files[:int(0.5*len(val_test_files))]\n",
    "test_files=val_test_files[int(0.5*len(val_test_files)):]\n",
    "print(\"train size:\",len(train_files))\n",
    "print(\"val size:\",len(val_files))\n",
    "print(\"test size:\",len(test_files))"
   ]
  },
  {
   "cell_type": "code",
   "execution_count": 46,
   "metadata": {},
   "outputs": [],
   "source": [
    "\n",
    "\n",
    "\n",
    "for i in range(len(train_files)):\n",
    "    ID_i = train_files[i][:-4]\n",
    "    shutil.copy2(r'D:\\Violet\\2022Fall\\AI\\ObjectDetection\\Images\\Images'+'\\\\'+ID_i+'.jpg', os.path.join(new_dir_base,'train','images','im'+str(i)+'.jpg'))\n",
    "    shutil.copy2(r'D:\\Violet\\2022Fall\\AI\\ObjectDetection\\YOLO_Annotations\\YOLO_Annotations'+'\\\\'+ID_i+'.txt', os.path.join(new_dir_base,'train','labels','im'+str(i)+'.txt'))"
   ]
  },
  {
   "cell_type": "code",
   "execution_count": 47,
   "metadata": {},
   "outputs": [],
   "source": [
    "for i in range(len(val_files)):\n",
    "    ID_i = val_files[i][:-4]\n",
    "    shutil.copy2(r'D:\\Violet\\2022Fall\\AI\\ObjectDetection\\Images\\Images'+'\\\\'+ID_i+'.jpg', os.path.join(new_dir_base,'val','images','im'+str(i)+'.jpg'))\n",
    "    shutil.copy2(r'D:\\Violet\\2022Fall\\AI\\ObjectDetection\\YOLO_Annotations\\YOLO_Annotations'+'\\\\'+ID_i+'.txt', os.path.join(new_dir_base,'val','labels','im'+str(i)+'.txt'))"
   ]
  },
  {
   "cell_type": "code",
   "execution_count": 48,
   "metadata": {},
   "outputs": [],
   "source": [
    "for i in range(len(test_files)):\n",
    "    ID_i = test_files[i][:-4]\n",
    "    shutil.copy2(r'D:\\Violet\\2022Fall\\AI\\ObjectDetection\\Images\\Images'+'\\\\'+ID_i+'.jpg', os.path.join(new_dir_base,'test','images','im'+str(i)+'.jpg'))\n",
    "    shutil.copy2(r'D:\\Violet\\2022Fall\\AI\\ObjectDetection\\YOLO_Annotations\\YOLO_Annotations'+'\\\\'+ID_i+'.txt', os.path.join(new_dir_base,'test','labels','im'+str(i)+'.txt'))"
   ]
  },
  {
   "cell_type": "code",
   "execution_count": 9,
   "metadata": {},
   "outputs": [],
   "source": [
    "#Smaller train Set\n",
    "for i in range(500):\n",
    "    ID_i = train_files[i][:-4]\n",
    "    shutil.copy2(r'D:\\Violet\\2022Fall\\AI\\ObjectDetection\\Images\\Images'+'\\\\'+ID_i+'.jpg', os.path.join(new_dir_base,'train_small','images','im'+str(i)+'.jpg'))\n",
    "    shutil.copy2(r'D:\\Violet\\2022Fall\\AI\\ObjectDetection\\YOLO_Annotations\\YOLO_Annotations'+'\\\\'+ID_i+'.txt', os.path.join(new_dir_base,'train_small','labels','im'+str(i)+'.txt'))"
   ]
  },
  {
   "cell_type": "code",
   "execution_count": null,
   "metadata": {},
   "outputs": [],
   "source": []
  }
 ],
 "metadata": {
  "kernelspec": {
   "display_name": "Python 3.8.0 ('Object_Detection')",
   "language": "python",
   "name": "python3"
  },
  "language_info": {
   "codemirror_mode": {
    "name": "ipython",
    "version": 3
   },
   "file_extension": ".py",
   "mimetype": "text/x-python",
   "name": "python",
   "nbconvert_exporter": "python",
   "pygments_lexer": "ipython3",
   "version": "3.8.15"
  },
  "orig_nbformat": 4,
  "vscode": {
   "interpreter": {
    "hash": "1af49eac78945dc96188bcc8a0c31e96313db58aa2970f30b0df9c6ac219acfd"
   }
  }
 },
 "nbformat": 4,
 "nbformat_minor": 2
}
