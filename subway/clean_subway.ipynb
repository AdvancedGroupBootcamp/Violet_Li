{
 "cells": [
  {
   "cell_type": "code",
   "execution_count": 54,
   "metadata": {},
   "outputs": [],
   "source": [
    "import pandas as pd\n",
    "import numpy as np\n",
    "import seaborn as sns"
   ]
  },
  {
   "cell_type": "markdown",
   "metadata": {},
   "source": [
    "# Clean Data"
   ]
  },
  {
   "cell_type": "code",
   "execution_count": 55,
   "metadata": {},
   "outputs": [],
   "source": [
    "def missing_values_table(df):\n",
    "    mis_val = df.isnull().sum()\n",
    "    mis_val_percent = 100 * df.isnull().sum() / len(df)\n",
    "    mis_val_table = pd.concat([mis_val, mis_val_percent], axis=1)\n",
    "    mis_val_table_ren_columns = mis_val_table.rename(\n",
    "    columns = {0 : 'Missing Values', 1 : '% of Total Values'})\n",
    "    mis_val_table_ren_columns = mis_val_table_ren_columns[\n",
    "        mis_val_table_ren_columns.iloc[:,1] != 0].sort_values(\n",
    "    '% of Total Values', ascending=False).round(1)\n",
    "    print (\"Your selected stage_train_dataframe has \" + str(df.shape[1]) + \" columns.\\n\"      \n",
    "        \"There are \" + str(mis_val_table_ren_columns.shape[0]) +\n",
    "            \" columns that have missing values.\")\n",
    "    return mis_val_table_ren_columns"
   ]
  },
  {
   "cell_type": "code",
   "execution_count": 60,
   "metadata": {},
   "outputs": [
    {
     "data": {
      "text/html": [
       "<div>\n",
       "<style scoped>\n",
       "    .dataframe tbody tr th:only-of-type {\n",
       "        vertical-align: middle;\n",
       "    }\n",
       "\n",
       "    .dataframe tbody tr th {\n",
       "        vertical-align: top;\n",
       "    }\n",
       "\n",
       "    .dataframe thead th {\n",
       "        text-align: right;\n",
       "    }\n",
       "</style>\n",
       "<table border=\"1\" class=\"dataframe\">\n",
       "  <thead>\n",
       "    <tr style=\"text-align: right;\">\n",
       "      <th></th>\n",
       "      <th>DATE/HEURE</th>\n",
       "      <th>NO</th>\n",
       "      <th>NO2</th>\n",
       "      <th>PM10</th>\n",
       "      <th>CO2</th>\n",
       "      <th>TEMP</th>\n",
       "      <th>HUMI</th>\n",
       "    </tr>\n",
       "  </thead>\n",
       "  <tbody>\n",
       "    <tr>\n",
       "      <th>0</th>\n",
       "      <td>2022-10-10 08:00:00+08:00</td>\n",
       "      <td>33</td>\n",
       "      <td>58</td>\n",
       "      <td>58</td>\n",
       "      <td>522</td>\n",
       "      <td>21,3</td>\n",
       "      <td>44</td>\n",
       "    </tr>\n",
       "    <tr>\n",
       "      <th>1</th>\n",
       "      <td>2022-10-10 07:00:00+08:00</td>\n",
       "      <td>53</td>\n",
       "      <td>63</td>\n",
       "      <td>48</td>\n",
       "      <td>540</td>\n",
       "      <td>21,5</td>\n",
       "      <td>43,3</td>\n",
       "    </tr>\n",
       "    <tr>\n",
       "      <th>2</th>\n",
       "      <td>2022-10-10 06:00:00+08:00</td>\n",
       "      <td>31</td>\n",
       "      <td>62</td>\n",
       "      <td>39</td>\n",
       "      <td>551</td>\n",
       "      <td>21,6</td>\n",
       "      <td>42,6</td>\n",
       "    </tr>\n",
       "    <tr>\n",
       "      <th>3</th>\n",
       "      <td>2022-10-10 05:00:00+08:00</td>\n",
       "      <td>21</td>\n",
       "      <td>63</td>\n",
       "      <td>31</td>\n",
       "      <td>542</td>\n",
       "      <td>21</td>\n",
       "      <td>44,7</td>\n",
       "    </tr>\n",
       "    <tr>\n",
       "      <th>4</th>\n",
       "      <td>2022-10-10 04:00:00+08:00</td>\n",
       "      <td>10</td>\n",
       "      <td>48</td>\n",
       "      <td>30</td>\n",
       "      <td>532</td>\n",
       "      <td>20,8</td>\n",
       "      <td>45,2</td>\n",
       "    </tr>\n",
       "    <tr>\n",
       "      <th>...</th>\n",
       "      <td>...</td>\n",
       "      <td>...</td>\n",
       "      <td>...</td>\n",
       "      <td>...</td>\n",
       "      <td>...</td>\n",
       "      <td>...</td>\n",
       "      <td>...</td>\n",
       "    </tr>\n",
       "    <tr>\n",
       "      <th>85432</th>\n",
       "      <td>2013-01-01 13:00:00+08:00</td>\n",
       "      <td>27</td>\n",
       "      <td>57</td>\n",
       "      <td>15</td>\n",
       "      <td>464</td>\n",
       "      <td>15</td>\n",
       "      <td>63,3</td>\n",
       "    </tr>\n",
       "    <tr>\n",
       "      <th>85433</th>\n",
       "      <td>2013-01-01 12:00:00+08:00</td>\n",
       "      <td>27</td>\n",
       "      <td>56</td>\n",
       "      <td>22</td>\n",
       "      <td>481</td>\n",
       "      <td>14,9</td>\n",
       "      <td>63,7</td>\n",
       "    </tr>\n",
       "    <tr>\n",
       "      <th>85434</th>\n",
       "      <td>2013-01-01 11:00:00+08:00</td>\n",
       "      <td>22</td>\n",
       "      <td>52</td>\n",
       "      <td>45</td>\n",
       "      <td>490</td>\n",
       "      <td>14,9</td>\n",
       "      <td>63,3</td>\n",
       "    </tr>\n",
       "    <tr>\n",
       "      <th>85435</th>\n",
       "      <td>2013-01-01 10:00:00+08:00</td>\n",
       "      <td>43</td>\n",
       "      <td>61</td>\n",
       "      <td>18</td>\n",
       "      <td>536</td>\n",
       "      <td>14,9</td>\n",
       "      <td>65</td>\n",
       "    </tr>\n",
       "    <tr>\n",
       "      <th>85436</th>\n",
       "      <td>2013-01-01 09:00:00+08:00</td>\n",
       "      <td>23</td>\n",
       "      <td>41</td>\n",
       "      <td>26</td>\n",
       "      <td>612</td>\n",
       "      <td>15,1</td>\n",
       "      <td>65,6</td>\n",
       "    </tr>\n",
       "  </tbody>\n",
       "</table>\n",
       "<p>85437 rows × 7 columns</p>\n",
       "</div>"
      ],
      "text/plain": [
       "                     DATE/HEURE  NO NO2 PM10  CO2  TEMP  HUMI\n",
       "0     2022-10-10 08:00:00+08:00  33  58   58  522  21,3    44\n",
       "1     2022-10-10 07:00:00+08:00  53  63   48  540  21,5  43,3\n",
       "2     2022-10-10 06:00:00+08:00  31  62   39  551  21,6  42,6\n",
       "3     2022-10-10 05:00:00+08:00  21  63   31  542    21  44,7\n",
       "4     2022-10-10 04:00:00+08:00  10  48   30  532  20,8  45,2\n",
       "...                         ...  ..  ..  ...  ...   ...   ...\n",
       "85432 2013-01-01 13:00:00+08:00  27  57   15  464    15  63,3\n",
       "85433 2013-01-01 12:00:00+08:00  27  56   22  481  14,9  63,7\n",
       "85434 2013-01-01 11:00:00+08:00  22  52   45  490  14,9  63,3\n",
       "85435 2013-01-01 10:00:00+08:00  43  61   18  536  14,9    65\n",
       "85436 2013-01-01 09:00:00+08:00  23  41   26  612  15,1  65,6\n",
       "\n",
       "[85437 rows x 7 columns]"
      ]
     },
     "execution_count": 60,
     "metadata": {},
     "output_type": "execute_result"
    }
   ],
   "source": [
    "raw_data=pd.read_csv(\"qualite-de-lair-mesuree-dans-la-station-franklin-d-roosevelt.csv\", sep=';', parse_dates=['DATE/HEURE'])\n",
    "raw_data"
   ]
  },
  {
   "cell_type": "code",
   "execution_count": 61,
   "metadata": {},
   "outputs": [
    {
     "data": {
      "text/plain": [
       "array(['33', '53', '31', '21', '10', '4', '3', '8', '11', '14', '17',\n",
       "       '15', '35', '34', '25', '24', '7', '5', '6', '9', '16', '27', '67',\n",
       "       '12', '45', '98', '156', 'ND', '155', '122', '118', '110', '94',\n",
       "       '74', '145', '257', '144', '87', '43', '13', '28', '2', '18', '42',\n",
       "       '22', '46', '107', '104', '99', '121', '135', '82', '56', '41',\n",
       "       '50', '71', '37', '29', '<2', '20', '69', '79', '81', '30', '39',\n",
       "       '48', '26', '60', '61', '19', '23', '44', '58', '76', '55', '80',\n",
       "       '36', '130', '38', '32', '51', '65', '59', '40', '113', '105',\n",
       "       '77', '120', '49', '64', '73', '84', '54', '90', '47', '75', '92',\n",
       "       '57', '66', '52', '103', '114', '68', '62', '93', '100', '78',\n",
       "       '63', '70', '88', '83', '109', '111', '138', '128', '127', '91',\n",
       "       '95', '165', '204', '198', '224', '190', '210', '265', '216',\n",
       "       '196', '168', '126', '131', '174', '195', '139', '124', '164',\n",
       "       '161', '147', '112', '115', '86', '160', '97', '133', '143', '125',\n",
       "       '129', '102', '72', '101', '148', '132', '117', '221', '186',\n",
       "       '211', '269', '232', '192', '169', '189', '238', '209', '119',\n",
       "       '181', '214', '167', '154', '134', '177', '179', '140', '158',\n",
       "       '153', '171', '108', '89', '217', '106', '163', '85', '149', '159',\n",
       "       '96', '123', '173', '142', '268', '279', '218', '175', '116',\n",
       "       '136', '183', '170', '239', '255', '306', '245', '316', '325',\n",
       "       '283', '237', '150', '146', '178', '152', '157', '260', '278',\n",
       "       '206', '141', '185', '166', '246', '247', '193', '202', '229',\n",
       "       '182', '187', '203', '151', '194', '207', '172', '291', '349',\n",
       "       '256', '226', '301', '403', '319', '223', '162', '199', '225',\n",
       "       '200', '220', '329', '327', '231', '356', '466', '208', '312',\n",
       "       '307', '305', '292', '284', '251', '280', '259', '296', '176',\n",
       "       '227', '286', '476', '524', '567', '549', '486', '561', '452',\n",
       "       '379', '288', '197', '201', '303', nan, '212', '219', '252', '233',\n",
       "       '215', '506', '757', '814', '640', '582', '293', '264', '230',\n",
       "       '335', '345', '332', '180', '436', '1', '244', '184', '222', '205',\n",
       "       '137', '188', '271', '213', '191', '250', '270', '281', '234',\n",
       "       '266', '290', '410', '228', '273', '242', '263', '253', '248',\n",
       "       '351', '304', '309', '322', '363', '300', '240', '254', '236',\n",
       "       '243', '262', '241', '274', '289', '235', '272', '323', '297',\n",
       "       '287', '275', '261', '282', '267', '249', '317', '381', '472',\n",
       "       '538', '594', '634', '373', '321', '343', '413', '333', '376',\n",
       "       '258', '427', '398', '342', '341', '355', '359', '460', '285',\n",
       "       '378', '302', '929', '276', '422', '350', '295', '328', '414',\n",
       "       '357', '311', '369', '428', '320', '368', '396', '375', '405',\n",
       "       '523', '353', '480', '277', '326', '416', '431', '388', '347',\n",
       "       '394', '374', '361', '397', '352', '344', '308', '364', '367',\n",
       "       '389', '366', '430', '419'], dtype=object)"
      ]
     },
     "execution_count": 61,
     "metadata": {},
     "output_type": "execute_result"
    }
   ],
   "source": [
    "raw_data['NO'].unique()"
   ]
  },
  {
   "cell_type": "code",
   "execution_count": 62,
   "metadata": {},
   "outputs": [
    {
     "data": {
      "text/plain": [
       "array(['58', '63', '62', '48', '31', '27', '26', '25', '33', '29', '37',\n",
       "       '38', '39', '44', '47', '50', '52', '49', '35', '23', '19', '17',\n",
       "       '24', '30', '32', '22', '34', '57', '67', '51', '54', '59', '41',\n",
       "       '45', '40', '42', '60', '69', 'ND', '56', '81', '72', '66', '53',\n",
       "       '43', '46', '15', '20', '21', '36', '28', '55', '12', '7', '10',\n",
       "       '13', '16', '18', '14', '9', '64', '80', '77', '71', '73', '75',\n",
       "       '76', '11', '79', '68', '84', '82', '89', '91', '78', '74', '61',\n",
       "       '109', '90', '65', '93', '6', '8', '100', '94', '70', '87', '96',\n",
       "       '92', '102', '83', '85', '103', '99', '105', '101', '86', '88',\n",
       "       '104', '97', '98', '95', '106', '5', '118', '212', '137', '4',\n",
       "       '111', '142', '140', '125', '134', '130', '108', '113', '107',\n",
       "       '115', '122', '112', '117', '110', '121', '128', '123', '129',\n",
       "       '114', '119', '116', '138', '127', '149', '124', '152', '120',\n",
       "       '136', '145', '157', '156', '151', '167', nan, '195', '248', '265',\n",
       "       '245', '141', '135', '133', '161', '153', '126', '139', '150',\n",
       "       '241', '216', '132', '177', '147', '146', '131', '144', '158',\n",
       "       '155', '148', '143', '159', '154', '166', '183', '168', '171',\n",
       "       '194', '176', '196', '174', '165', '163', '162', '169', '184',\n",
       "       '181', '178', '206', '227', '242', '190', '170', '160', '180',\n",
       "       '187', '173', '200', '188', '164'], dtype=object)"
      ]
     },
     "execution_count": 62,
     "metadata": {},
     "output_type": "execute_result"
    }
   ],
   "source": [
    "raw_data['NO2'].unique()"
   ]
  },
  {
   "cell_type": "code",
   "execution_count": 63,
   "metadata": {},
   "outputs": [
    {
     "data": {
      "text/plain": [
       "array(['522', '540', '551', '542', '532', '525', '520', '550', '554',\n",
       "       '533', '538', '526', '501', '473', '466', '481', '467', '478',\n",
       "       '482', '498', '528', '531', '543', '534', '535', '614', '607',\n",
       "       '576', '553', '508', '475', '461', '463', '462', '453', '455',\n",
       "       '502', '559', '547', '562', '558', '573', '582', '571', '561',\n",
       "       '557', '644', '625', '568', '527', '555', '621', '617', '583',\n",
       "       '581', '552', '570', '560', '521', '496', '541', '476', '445',\n",
       "       '437', '442', '448', '456', '477', '506', '548', '546', '734',\n",
       "       '590', '503', '487', '469', '490', '488', '504', '537', '545',\n",
       "       '556', '586', '600', '615', '593', '544', '612', '518', '497',\n",
       "       '470', '485', '492', '523', '530', '515', '459', '438', '443',\n",
       "       '446', '450', '457', '489', '509', '499', '589', '594', '567',\n",
       "       '479', '471', '519', '587', '631', '662', '549', '609', '640',\n",
       "       '628', '572', '444', '451', '472', '578', '569', '575', '536',\n",
       "       '517', 'ND', '516', '486', '491', '507', '440', '426', '408',\n",
       "       '402', '404', '406', '416', '447', '524', '483', '434', '419',\n",
       "       '399', '393', '398', '441', '511', '484', '430', '410', '391',\n",
       "       '394', '513', '539', '495', '474', '577', '423', '409', '413',\n",
       "       '449', '465', '429', '418', '405', '424', '452', '494', '514',\n",
       "       '510', '596', '512', '432', '427', '428', '414', '505', '433',\n",
       "       '415', '412', '480', '435', '420', '403', '407', '464', '458',\n",
       "       '454', '425', '411', '468', '401', '417', '500', '602', '400',\n",
       "       '421', '493', '431', '460', '439', '529', '563', '585', '566',\n",
       "       '422', '564', '436', '392', '595', '574', '592', '395', '565',\n",
       "       '396', '702', '1081', '397', '579', '624', '588', '580', '606',\n",
       "       '591', '638', '629', '584', '616', '633', '641', '611', '668',\n",
       "       '604', '598', '601', '622', '599', '652', '623', '743', '746',\n",
       "       '732', '720', '704', '674', '673', '670', '613', '658', '650',\n",
       "       '632', '619', '620', '608', '597', '635', '605', '610', '657',\n",
       "       '653', '642', '627', '643', '693', '679', '667', '630', '639',\n",
       "       '648', '649', '675', '699', '701', '688', '603', '647', '636',\n",
       "       '645', '707', '637', '665', '678', '709', '706', '711', '677',\n",
       "       '664', '656', '680', '618', '634', '651', '729', '708', '681',\n",
       "       '654', '655', '626', '669', '666', '672', '646', '676', '687',\n",
       "       '663', '700', '690', '713', '660', '661', '683', '740', '684',\n",
       "       '726', '387', '385', '389', '390', '388', '384', '671', '386',\n",
       "       '382', '710', '781', '659', '769', '696', '686', '682', nan, '694',\n",
       "       '722', '692', '685', '795', '782', '739', '737', '876', '785',\n",
       "       '821', '806', '758', '753', '765', '721', '811', '733', '750',\n",
       "       '752', '381', '728', '691', '760', '731', '747', '723', '718',\n",
       "       '742', '717', '773', '697', '779', '736', '834', '712', '383',\n",
       "       '724', '714', '861', '703', '745', '705', '839', '783', '823',\n",
       "       '756', '768', '888', '716', '772', '877', '689', '741', '695',\n",
       "       '748', '799', '735', '727', '763', '698', '786', '762', '810',\n",
       "       '751', '792', '787', '749', '791', '738', '755', '804', '730',\n",
       "       '780', '759', '819', '807', '784', '837', '757', '858', '715',\n",
       "       '789', '719', '725', '770', '830', '788', '862', '794', '964',\n",
       "       '860', '778', '774', '793', '1056', '927', '767'], dtype=object)"
      ]
     },
     "execution_count": 63,
     "metadata": {},
     "output_type": "execute_result"
    }
   ],
   "source": [
    "raw_data['CO2'].unique()"
   ]
  },
  {
   "cell_type": "code",
   "execution_count": 64,
   "metadata": {},
   "outputs": [
    {
     "data": {
      "text/plain": [
       "array(['58', '48', '39', '31', '30', '26', '28', '44', '54', '22', '23',\n",
       "       '17', '14', '20', '16', '12', '15', '25', '42', '27', '21', '46',\n",
       "       '41', '37', '24', '19', '9', '49', '47', '55', '29', '36', '35',\n",
       "       '43', '70', '61', '33', '56', '51', '68', '38', '40', '66', '13',\n",
       "       '45', '32', '60', '101', '199', '78', '7', '65', '63', '18', '6',\n",
       "       '11', 'ND', '34', '10', '8', '64', '59', '<5', '52', '57', '50',\n",
       "       '62', '67', '72', '53', '77', '76', '86', '83', '116', '97', '5',\n",
       "       '124', '82', '81', '71', '75', '69', '85', '79', '94', '73', '95',\n",
       "       '117', '92', '80', '74', '87', '129', '96', '100', '123', '107',\n",
       "       '89', '203', '133', '106', '105', '93', '88', '115', '110', '148',\n",
       "       '154', '118', '98', '99', '143', '90', '111', '84', '140', '149',\n",
       "       '108', '145', '119', '91', '104', '134', '146', '126', '120',\n",
       "       '132', '158', '155', '103', '167', '130', '150', '280', '250',\n",
       "       '121', '186', '138', '220', '193', '162', '165', '189', '204',\n",
       "       '157', '190', '326', '136', '169', '240', '217', '446', '915',\n",
       "       '620', '285', '267', '526', '306', '415', '202', '159', '161',\n",
       "       '290', '156', '112', '139', '173', '102', '141', '142', '127',\n",
       "       '171', '122', '137', '231', '163', '131', '168', '109', '176',\n",
       "       '114', '125', '>1000', '913', '211', '128', '113', '201', '944',\n",
       "       '170', '195', '188', '467', '248', '196', '356', '300', '144',\n",
       "       '151', '135', '160', '191', '180', '221', '166', '153', '147',\n",
       "       '164', '177', '152', '244', '205', '174', '187', '175', '258',\n",
       "       '183', '228', '185', '227', '181', '172', '178', '213', '222',\n",
       "       '287', '218', '233', '192', '200', '194', '209', '210', '234',\n",
       "       '179', '206', '184', '197', '247', '223', '255', '236', '215',\n",
       "       '284', '897', '849', '182', '229', '257', '241', '338', '350',\n",
       "       '305', '212', '224', '249', '308', '288', '252', '291', '237',\n",
       "       '207', '214', '266', '245', '232', '208', '239', '278', '301',\n",
       "       '226', '294', '251', '253', '254', '235', '216', '198', '230',\n",
       "       '270', '238', '303', '242', '263', '246', '313', '219', '407',\n",
       "       '696', '225', nan, '274', '346', '528', '681', '592', '574', '275',\n",
       "       '611', '243', '271', '259', '337', '655', '431', '292', '297',\n",
       "       '265', '298', '343', '309', '314', '260', '390', '317', '261',\n",
       "       '440', '264', '340', '281', '283', '391', '299', '334', '341',\n",
       "       '325', '269', '282', '329', '360', '379', '322', '256', '268',\n",
       "       '323', '277', '318', '315', '413', '345', '352', '643', '383',\n",
       "       '357', '344', '262', '374', '365', '320', '289', '272', '359',\n",
       "       '295', '335', '385', '472', '353', '456', '394', '349', '382',\n",
       "       '495', '402', '490', '293', '296', '286', '311', '389', '527',\n",
       "       '437', '361', '336', '434', '408', '304', '388', '412', '307',\n",
       "       '332', '417', '377', '363', '433', '312', '351', '324', '376',\n",
       "       '474', '395', '369', '453', '496', '372', '399', '358', '328',\n",
       "       '327', '508', '333', '858', '736', '850', '438', '276', '279',\n",
       "       '355', '375', '347', '795', '302', '491', '411', '386', '751',\n",
       "       '539', '397', '594', '487', '442', '979', '787', '679', '705'],\n",
       "      dtype=object)"
      ]
     },
     "execution_count": 64,
     "metadata": {},
     "output_type": "execute_result"
    }
   ],
   "source": [
    "raw_data['PM10'].unique()"
   ]
  },
  {
   "cell_type": "code",
   "execution_count": 65,
   "metadata": {},
   "outputs": [
    {
     "data": {
      "text/plain": [
       "<DatetimeArray>\n",
       "['2022-10-10 08:00:00+08:00', '2022-10-10 07:00:00+08:00',\n",
       " '2022-10-10 06:00:00+08:00', '2022-10-10 05:00:00+08:00',\n",
       " '2022-10-10 04:00:00+08:00', '2022-10-10 03:00:00+08:00',\n",
       " '2022-10-10 02:00:00+08:00', '2022-10-10 01:00:00+08:00',\n",
       " '2022-10-10 00:00:00+08:00', '2022-10-09 23:00:00+08:00',\n",
       " ...\n",
       " '2013-01-01 18:00:00+08:00', '2013-01-01 17:00:00+08:00',\n",
       " '2013-01-01 16:00:00+08:00', '2013-01-01 15:00:00+08:00',\n",
       " '2013-01-01 14:00:00+08:00', '2013-01-01 13:00:00+08:00',\n",
       " '2013-01-01 12:00:00+08:00', '2013-01-01 11:00:00+08:00',\n",
       " '2013-01-01 10:00:00+08:00', '2013-01-01 09:00:00+08:00']\n",
       "Length: 85434, dtype: datetime64[ns, pytz.FixedOffset(480)]"
      ]
     },
     "execution_count": 65,
     "metadata": {},
     "output_type": "execute_result"
    }
   ],
   "source": [
    "raw_data['DATE/HEURE'].unique()"
   ]
  },
  {
   "cell_type": "code",
   "execution_count": 66,
   "metadata": {},
   "outputs": [
    {
     "data": {
      "text/plain": [
       "array(['21,3', '21,5', '21,6', '21', '20,8', '20,9', '21,2', '20,6', '20',\n",
       "       '19,4', '18,3', '18,4', '19,1', '20,1', '20,4', '20,7', '21,1',\n",
       "       '21,4', '21,7', '20,3', '19,5', '19,3', '19,7', '20,2', '21,9',\n",
       "       '22,1', '22,2', '21,8', '19,2', '18,9', '18,6', '22,3', '22',\n",
       "       '19,9', '22,6', '22,7', '22,8', '22,5', '22,4', '19,8', '18,1',\n",
       "       '20,5', '18,8', '23,1', '22,9', '23', '18', '17,9', '18,2', '19',\n",
       "       '19,6', '23,2', '23,3', '23,4', '23,6', '23,8', '23,5', '23,9',\n",
       "       '24,1', '24,6', '24,7', '24,2', '24,8', '25,4', '25,3', '25,8',\n",
       "       '25,5', '25,1', '24,4', '23,7', '24,5', '26,2', '26,7', '26,6',\n",
       "       '26,8', '27', '27,3', '27,2', '27,1', '25,7', '24,9', '25', '26,1',\n",
       "       '26,5', '26,9', '26,3', '25,9', '26', '26,4', '24,3', '24', '25,2',\n",
       "       '27,7', '28,1', '28,4', '28,2', '28', '27,4', '28,6', '29,3',\n",
       "       '29,2', '28,8', '27,8', '28,3', '28,5', '27,9', '27,6', '27,5',\n",
       "       '25,6', '28,7', '29,4', '30', '30,3', '30,1', '29,8', '28,9',\n",
       "       '29,5', '30,2', '30,5', '30,4', '29,9', '29,6', '29', '29,1',\n",
       "       '29,7', '30,6', '31', '31,2', '31,4', '31,6', '30,9', '30,7',\n",
       "       '31,7', '31,9', '31,8', '31,5', '31,3', '30,8', '31,1', '32,5',\n",
       "       '33,2', '34,2', '34,5', '34,4', '33,6', '33,5', '33,1', '32,8',\n",
       "       '32', '32,4', '33', '32,7', '32,3', '32,2', '32,6', '18,7', '17,8',\n",
       "       '18,5', '17,7', '17,3', '16,7', '17', '17,5', '17,2', '17,6',\n",
       "       '17,4', '16,1', '16', '16,4', '16,5', '16,8', '16,9', '15,5',\n",
       "       '15,2', '15,1', '15,3', '15,9', '15,7', '16,6', '16,3', '17,1',\n",
       "       '16,2', '15,8', '15,4', '14,7', '13,4', '13,1', '13', '12,8',\n",
       "       '14,2', '14,6', 'ND', '15,6', '14,8', '14,9', '14,3', '13,8',\n",
       "       '12,6', '12,4', '12,2', '12,5', '13,6', '15', '14,1', '13,9',\n",
       "       '13,7', '11,9', '12', '12,1', '12,3', '13,3', '14,4', '14', '12,7',\n",
       "       '12,9', '13,5', '13,2', '11,5', '11,1', '11,6', '11,8', '11,7',\n",
       "       '11,4', '11,3', '14,5', '11,2', '9,9', '9,6', '9,2', '9,3', '10,8',\n",
       "       '9,7', '9,4', '11', '10,7', '10,3', '10,4', '10,5', '10,6', '10,2',\n",
       "       '10,1', '10,9', '8,9', '9,1', '10', '8,5', '8,3', '8,2', '8,4',\n",
       "       '8,6', '9,5', '9,8', '8,7', '8,8', '9', '32,1', '32,9', '33,3',\n",
       "       '33,8', '34', '33,4', nan, '34,1', '34,8', '35,1', '35,2', '34,7',\n",
       "       '35', '33,7', '7,9', '7,6', '8', '8,1', '7,7', '7,3', '7', '7,5',\n",
       "       '6,3', '5,6', '6', '5,8', '3,8', '5', '6,8', '7,1', '6,6', '7,8',\n",
       "       '7,4', '7,2', '6,4', '6,2', '6,7', '6,9', '6,1', '6,5', '5,9',\n",
       "       '5,7'], dtype=object)"
      ]
     },
     "execution_count": 66,
     "metadata": {},
     "output_type": "execute_result"
    }
   ],
   "source": [
    "raw_data['TEMP'].unique()"
   ]
  },
  {
   "cell_type": "code",
   "execution_count": 67,
   "metadata": {},
   "outputs": [],
   "source": [
    "cleaned_data = raw_data.replace('ND', np.nan)\n",
    "cleaned_data['TEMP'] = cleaned_data['TEMP'].str.replace(',', '.')\n",
    "cleaned_data['HUMI'] = cleaned_data['HUMI'].str.replace(',', '.')\n",
    "# we just drop the < / > signs, because we have no indication what this means\n",
    "cleaned_data = cleaned_data.replace(to_replace=[r'<',r'>'], value='', regex=True)"
   ]
  },
  {
   "cell_type": "code",
   "execution_count": 68,
   "metadata": {},
   "outputs": [],
   "source": [
    "cleaned_data.head()\n",
    "cleaned_data.to_csv('test')"
   ]
  },
  {
   "cell_type": "code",
   "execution_count": 69,
   "metadata": {},
   "outputs": [],
   "source": [
    "cleaned_data[['NO', 'NO2', 'PM10', 'CO2', 'TEMP', 'HUMI']] = cleaned_data[['NO', 'NO2', 'PM10', 'CO2', 'TEMP', 'HUMI']].apply(pd.to_numeric)"
   ]
  },
  {
   "cell_type": "markdown",
   "metadata": {},
   "source": [
    "#### DATE / TIME"
   ]
  },
  {
   "cell_type": "code",
   "execution_count": 70,
   "metadata": {},
   "outputs": [
    {
     "data": {
      "text/html": [
       "<div>\n",
       "<style scoped>\n",
       "    .dataframe tbody tr th:only-of-type {\n",
       "        vertical-align: middle;\n",
       "    }\n",
       "\n",
       "    .dataframe tbody tr th {\n",
       "        vertical-align: top;\n",
       "    }\n",
       "\n",
       "    .dataframe thead th {\n",
       "        text-align: right;\n",
       "    }\n",
       "</style>\n",
       "<table border=\"1\" class=\"dataframe\">\n",
       "  <thead>\n",
       "    <tr style=\"text-align: right;\">\n",
       "      <th></th>\n",
       "      <th>NO</th>\n",
       "      <th>NO2</th>\n",
       "      <th>PM10</th>\n",
       "      <th>CO2</th>\n",
       "      <th>TEMP</th>\n",
       "      <th>HUMI</th>\n",
       "      <th>DATE</th>\n",
       "    </tr>\n",
       "  </thead>\n",
       "  <tbody>\n",
       "    <tr>\n",
       "      <th>0</th>\n",
       "      <td>33.0</td>\n",
       "      <td>58.0</td>\n",
       "      <td>58.0</td>\n",
       "      <td>522.0</td>\n",
       "      <td>21.3</td>\n",
       "      <td>44.0</td>\n",
       "      <td>2022-10-10 00:00:00+00:00</td>\n",
       "    </tr>\n",
       "    <tr>\n",
       "      <th>1</th>\n",
       "      <td>53.0</td>\n",
       "      <td>63.0</td>\n",
       "      <td>48.0</td>\n",
       "      <td>540.0</td>\n",
       "      <td>21.5</td>\n",
       "      <td>43.3</td>\n",
       "      <td>2022-10-09 23:00:00+00:00</td>\n",
       "    </tr>\n",
       "    <tr>\n",
       "      <th>2</th>\n",
       "      <td>31.0</td>\n",
       "      <td>62.0</td>\n",
       "      <td>39.0</td>\n",
       "      <td>551.0</td>\n",
       "      <td>21.6</td>\n",
       "      <td>42.6</td>\n",
       "      <td>2022-10-09 22:00:00+00:00</td>\n",
       "    </tr>\n",
       "    <tr>\n",
       "      <th>3</th>\n",
       "      <td>21.0</td>\n",
       "      <td>63.0</td>\n",
       "      <td>31.0</td>\n",
       "      <td>542.0</td>\n",
       "      <td>21.0</td>\n",
       "      <td>44.7</td>\n",
       "      <td>2022-10-09 21:00:00+00:00</td>\n",
       "    </tr>\n",
       "    <tr>\n",
       "      <th>4</th>\n",
       "      <td>10.0</td>\n",
       "      <td>48.0</td>\n",
       "      <td>30.0</td>\n",
       "      <td>532.0</td>\n",
       "      <td>20.8</td>\n",
       "      <td>45.2</td>\n",
       "      <td>2022-10-09 20:00:00+00:00</td>\n",
       "    </tr>\n",
       "  </tbody>\n",
       "</table>\n",
       "</div>"
      ],
      "text/plain": [
       "     NO   NO2  PM10    CO2  TEMP  HUMI                      DATE\n",
       "0  33.0  58.0  58.0  522.0  21.3  44.0 2022-10-10 00:00:00+00:00\n",
       "1  53.0  63.0  48.0  540.0  21.5  43.3 2022-10-09 23:00:00+00:00\n",
       "2  31.0  62.0  39.0  551.0  21.6  42.6 2022-10-09 22:00:00+00:00\n",
       "3  21.0  63.0  31.0  542.0  21.0  44.7 2022-10-09 21:00:00+00:00\n",
       "4  10.0  48.0  30.0  532.0  20.8  45.2 2022-10-09 20:00:00+00:00"
      ]
     },
     "execution_count": 70,
     "metadata": {},
     "output_type": "execute_result"
    }
   ],
   "source": [
    "cleaned_data['DATE'] = pd.to_datetime(cleaned_data['DATE/HEURE'], utc=True)\n",
    "cleaned_data = cleaned_data.drop(columns=['DATE/HEURE'])\n",
    "cleaned_data.head()"
   ]
  },
  {
   "cell_type": "markdown",
   "metadata": {},
   "source": [
    "#### Missing Values"
   ]
  },
  {
   "cell_type": "code",
   "execution_count": 71,
   "metadata": {},
   "outputs": [
    {
     "name": "stdout",
     "output_type": "stream",
     "text": [
      "Your selected stage_train_dataframe has 7 columns.\n",
      "There are 6 columns that have missing values.\n"
     ]
    },
    {
     "data": {
      "text/html": [
       "<div>\n",
       "<style scoped>\n",
       "    .dataframe tbody tr th:only-of-type {\n",
       "        vertical-align: middle;\n",
       "    }\n",
       "\n",
       "    .dataframe tbody tr th {\n",
       "        vertical-align: top;\n",
       "    }\n",
       "\n",
       "    .dataframe thead th {\n",
       "        text-align: right;\n",
       "    }\n",
       "</style>\n",
       "<table border=\"1\" class=\"dataframe\">\n",
       "  <thead>\n",
       "    <tr style=\"text-align: right;\">\n",
       "      <th></th>\n",
       "      <th>Missing Values</th>\n",
       "      <th>% of Total Values</th>\n",
       "    </tr>\n",
       "  </thead>\n",
       "  <tbody>\n",
       "    <tr>\n",
       "      <th>NO</th>\n",
       "      <td>9408</td>\n",
       "      <td>11.0</td>\n",
       "    </tr>\n",
       "    <tr>\n",
       "      <th>CO2</th>\n",
       "      <td>7985</td>\n",
       "      <td>9.3</td>\n",
       "    </tr>\n",
       "    <tr>\n",
       "      <th>NO2</th>\n",
       "      <td>7970</td>\n",
       "      <td>9.3</td>\n",
       "    </tr>\n",
       "    <tr>\n",
       "      <th>PM10</th>\n",
       "      <td>4393</td>\n",
       "      <td>5.1</td>\n",
       "    </tr>\n",
       "    <tr>\n",
       "      <th>HUMI</th>\n",
       "      <td>1942</td>\n",
       "      <td>2.3</td>\n",
       "    </tr>\n",
       "    <tr>\n",
       "      <th>TEMP</th>\n",
       "      <td>1935</td>\n",
       "      <td>2.3</td>\n",
       "    </tr>\n",
       "  </tbody>\n",
       "</table>\n",
       "</div>"
      ],
      "text/plain": [
       "      Missing Values  % of Total Values\n",
       "NO              9408               11.0\n",
       "CO2             7985                9.3\n",
       "NO2             7970                9.3\n",
       "PM10            4393                5.1\n",
       "HUMI            1942                2.3\n",
       "TEMP            1935                2.3"
      ]
     },
     "execution_count": 71,
     "metadata": {},
     "output_type": "execute_result"
    }
   ],
   "source": [
    "missing_values_table(cleaned_data)"
   ]
  },
  {
   "cell_type": "code",
   "execution_count": 72,
   "metadata": {},
   "outputs": [
    {
     "data": {
      "text/plain": [
       "<AxesSubplot:>"
      ]
     },
     "execution_count": 72,
     "metadata": {},
     "output_type": "execute_result"
    },
    {
     "data": {
      "image/png": "[encoded data removed]",
      "text/plain": [
       "<Figure size 432x288 with 2 Axes>"
      ]
     },
     "metadata": {
      "needs_background": "light"
     },
     "output_type": "display_data"
    }
   ],
   "source": [
    "sns.heatmap(cleaned_data.isnull())"
   ]
  },
  {
   "cell_type": "markdown",
   "metadata": {},
   "source": [
    "Drop rows that do not have any values except datetime"
   ]
  },
  {
   "cell_type": "code",
   "execution_count": 73,
   "metadata": {},
   "outputs": [],
   "source": [
    "cleaned_data.dropna(thresh=6, inplace=True)"
   ]
  },
  {
   "cell_type": "markdown",
   "metadata": {},
   "source": [
    "Since we are dealing with chronological data, we will fill the missing values with the ones that happened right before."
   ]
  },
  {
   "cell_type": "code",
   "execution_count": 74,
   "metadata": {},
   "outputs": [],
   "source": [
    "cleaned_data.fillna(method='bfill', inplace=True)"
   ]
  },
  {
   "cell_type": "code",
   "execution_count": 75,
   "metadata": {},
   "outputs": [
    {
     "name": "stdout",
     "output_type": "stream",
     "text": [
      "Your selected stage_train_dataframe has 7 columns.\n",
      "There are 0 columns that have missing values.\n"
     ]
    },
    {
     "data": {
      "text/html": [
       "<div>\n",
       "<style scoped>\n",
       "    .dataframe tbody tr th:only-of-type {\n",
       "        vertical-align: middle;\n",
       "    }\n",
       "\n",
       "    .dataframe tbody tr th {\n",
       "        vertical-align: top;\n",
       "    }\n",
       "\n",
       "    .dataframe thead th {\n",
       "        text-align: right;\n",
       "    }\n",
       "</style>\n",
       "<table border=\"1\" class=\"dataframe\">\n",
       "  <thead>\n",
       "    <tr style=\"text-align: right;\">\n",
       "      <th></th>\n",
       "      <th>Missing Values</th>\n",
       "      <th>% of Total Values</th>\n",
       "    </tr>\n",
       "  </thead>\n",
       "  <tbody>\n",
       "  </tbody>\n",
       "</table>\n",
       "</div>"
      ],
      "text/plain": [
       "Empty DataFrame\n",
       "Columns: [Missing Values, % of Total Values]\n",
       "Index: []"
      ]
     },
     "execution_count": 75,
     "metadata": {},
     "output_type": "execute_result"
    }
   ],
   "source": [
    "missing_values_table(cleaned_data)"
   ]
  },
  {
   "cell_type": "code",
   "execution_count": 76,
   "metadata": {},
   "outputs": [
    {
     "data": {
      "text/html": [
       "<div>\n",
       "<style scoped>\n",
       "    .dataframe tbody tr th:only-of-type {\n",
       "        vertical-align: middle;\n",
       "    }\n",
       "\n",
       "    .dataframe tbody tr th {\n",
       "        vertical-align: top;\n",
       "    }\n",
       "\n",
       "    .dataframe thead th {\n",
       "        text-align: right;\n",
       "    }\n",
       "</style>\n",
       "<table border=\"1\" class=\"dataframe\">\n",
       "  <thead>\n",
       "    <tr style=\"text-align: right;\">\n",
       "      <th></th>\n",
       "      <th>NO</th>\n",
       "      <th>NO2</th>\n",
       "      <th>PM10</th>\n",
       "      <th>CO2</th>\n",
       "      <th>TEMP</th>\n",
       "      <th>HUMI</th>\n",
       "      <th>DATE</th>\n",
       "    </tr>\n",
       "  </thead>\n",
       "  <tbody>\n",
       "    <tr>\n",
       "      <th>85365</th>\n",
       "      <td>24.0</td>\n",
       "      <td>61.0</td>\n",
       "      <td>10.0</td>\n",
       "      <td>451.0</td>\n",
       "      <td>16.0</td>\n",
       "      <td>61.5</td>\n",
       "      <td>2013-01-04 00:00:00+00:00</td>\n",
       "    </tr>\n",
       "    <tr>\n",
       "      <th>85366</th>\n",
       "      <td>37.0</td>\n",
       "      <td>65.0</td>\n",
       "      <td>21.0</td>\n",
       "      <td>485.0</td>\n",
       "      <td>16.2</td>\n",
       "      <td>63.7</td>\n",
       "      <td>2013-01-03 23:00:00+00:00</td>\n",
       "    </tr>\n",
       "    <tr>\n",
       "      <th>85367</th>\n",
       "      <td>36.0</td>\n",
       "      <td>61.0</td>\n",
       "      <td>22.0</td>\n",
       "      <td>484.0</td>\n",
       "      <td>16.1</td>\n",
       "      <td>64.4</td>\n",
       "      <td>2013-01-03 22:00:00+00:00</td>\n",
       "    </tr>\n",
       "    <tr>\n",
       "      <th>85368</th>\n",
       "      <td>49.0</td>\n",
       "      <td>67.0</td>\n",
       "      <td>18.0</td>\n",
       "      <td>488.0</td>\n",
       "      <td>16.2</td>\n",
       "      <td>64.2</td>\n",
       "      <td>2013-01-03 21:00:00+00:00</td>\n",
       "    </tr>\n",
       "    <tr>\n",
       "      <th>85369</th>\n",
       "      <td>58.0</td>\n",
       "      <td>64.0</td>\n",
       "      <td>37.0</td>\n",
       "      <td>564.0</td>\n",
       "      <td>16.5</td>\n",
       "      <td>66.2</td>\n",
       "      <td>2013-01-03 20:00:00+00:00</td>\n",
       "    </tr>\n",
       "    <tr>\n",
       "      <th>...</th>\n",
       "      <td>...</td>\n",
       "      <td>...</td>\n",
       "      <td>...</td>\n",
       "      <td>...</td>\n",
       "      <td>...</td>\n",
       "      <td>...</td>\n",
       "      <td>...</td>\n",
       "    </tr>\n",
       "    <tr>\n",
       "      <th>85432</th>\n",
       "      <td>27.0</td>\n",
       "      <td>57.0</td>\n",
       "      <td>15.0</td>\n",
       "      <td>464.0</td>\n",
       "      <td>15.0</td>\n",
       "      <td>63.3</td>\n",
       "      <td>2013-01-01 05:00:00+00:00</td>\n",
       "    </tr>\n",
       "    <tr>\n",
       "      <th>85433</th>\n",
       "      <td>27.0</td>\n",
       "      <td>56.0</td>\n",
       "      <td>22.0</td>\n",
       "      <td>481.0</td>\n",
       "      <td>14.9</td>\n",
       "      <td>63.7</td>\n",
       "      <td>2013-01-01 04:00:00+00:00</td>\n",
       "    </tr>\n",
       "    <tr>\n",
       "      <th>85434</th>\n",
       "      <td>22.0</td>\n",
       "      <td>52.0</td>\n",
       "      <td>45.0</td>\n",
       "      <td>490.0</td>\n",
       "      <td>14.9</td>\n",
       "      <td>63.3</td>\n",
       "      <td>2013-01-01 03:00:00+00:00</td>\n",
       "    </tr>\n",
       "    <tr>\n",
       "      <th>85435</th>\n",
       "      <td>43.0</td>\n",
       "      <td>61.0</td>\n",
       "      <td>18.0</td>\n",
       "      <td>536.0</td>\n",
       "      <td>14.9</td>\n",
       "      <td>65.0</td>\n",
       "      <td>2013-01-01 02:00:00+00:00</td>\n",
       "    </tr>\n",
       "    <tr>\n",
       "      <th>85436</th>\n",
       "      <td>23.0</td>\n",
       "      <td>41.0</td>\n",
       "      <td>26.0</td>\n",
       "      <td>612.0</td>\n",
       "      <td>15.1</td>\n",
       "      <td>65.6</td>\n",
       "      <td>2013-01-01 01:00:00+00:00</td>\n",
       "    </tr>\n",
       "  </tbody>\n",
       "</table>\n",
       "<p>72 rows × 7 columns</p>\n",
       "</div>"
      ],
      "text/plain": [
       "         NO   NO2  PM10    CO2  TEMP  HUMI                      DATE\n",
       "85365  24.0  61.0  10.0  451.0  16.0  61.5 2013-01-04 00:00:00+00:00\n",
       "85366  37.0  65.0  21.0  485.0  16.2  63.7 2013-01-03 23:00:00+00:00\n",
       "85367  36.0  61.0  22.0  484.0  16.1  64.4 2013-01-03 22:00:00+00:00\n",
       "85368  49.0  67.0  18.0  488.0  16.2  64.2 2013-01-03 21:00:00+00:00\n",
       "85369  58.0  64.0  37.0  564.0  16.5  66.2 2013-01-03 20:00:00+00:00\n",
       "...     ...   ...   ...    ...   ...   ...                       ...\n",
       "85432  27.0  57.0  15.0  464.0  15.0  63.3 2013-01-01 05:00:00+00:00\n",
       "85433  27.0  56.0  22.0  481.0  14.9  63.7 2013-01-01 04:00:00+00:00\n",
       "85434  22.0  52.0  45.0  490.0  14.9  63.3 2013-01-01 03:00:00+00:00\n",
       "85435  43.0  61.0  18.0  536.0  14.9  65.0 2013-01-01 02:00:00+00:00\n",
       "85436  23.0  41.0  26.0  612.0  15.1  65.6 2013-01-01 01:00:00+00:00\n",
       "\n",
       "[72 rows x 7 columns]"
      ]
     },
     "execution_count": 76,
     "metadata": {},
     "output_type": "execute_result"
    }
   ],
   "source": [
    "cleaned_data.tail(72) # For station auber, the last 71 days have missing NO and NO2 values"
   ]
  },
  {
   "cell_type": "code",
   "execution_count": 77,
   "metadata": {},
   "outputs": [],
   "source": [
    "# cleaned_data.loc[75720:,\"NO\"]=101.0\n",
    "# cleaned_data.loc[75720:,\"NO2\"]=30.0"
   ]
  },
  {
   "cell_type": "code",
   "execution_count": 78,
   "metadata": {},
   "outputs": [
    {
     "name": "stdout",
     "output_type": "stream",
     "text": [
      "<class 'pandas.core.frame.DataFrame'>\n",
      "Int64Index: 76524 entries, 0 to 85436\n",
      "Data columns (total 7 columns):\n",
      " #   Column  Non-Null Count  Dtype              \n",
      "---  ------  --------------  -----              \n",
      " 0   NO      76524 non-null  float64            \n",
      " 1   NO2     76524 non-null  float64            \n",
      " 2   PM10    76524 non-null  float64            \n",
      " 3   CO2     76524 non-null  float64            \n",
      " 4   TEMP    76524 non-null  float64            \n",
      " 5   HUMI    76524 non-null  float64            \n",
      " 6   DATE    76524 non-null  datetime64[ns, UTC]\n",
      "dtypes: datetime64[ns, UTC](1), float64(6)\n",
      "memory usage: 4.7 MB\n"
     ]
    }
   ],
   "source": [
    "cleaned_data.info()"
   ]
  },
  {
   "cell_type": "code",
   "execution_count": 79,
   "metadata": {},
   "outputs": [
    {
     "data": {
      "text/plain": [
       "<AxesSubplot:>"
      ]
     },
     "execution_count": 79,
     "metadata": {},
     "output_type": "execute_result"
    },
    {
     "data": {
      "image/png": "[encoded data removed]",
      "text/plain": [
       "<Figure size 432x288 with 1 Axes>"
      ]
     },
     "metadata": {
      "needs_background": "light"
     },
     "output_type": "display_data"
    }
   ],
   "source": [
    "cleaned_data.boxplot()"
   ]
  },
  {
   "cell_type": "markdown",
   "metadata": {},
   "source": [
    "There are some outliers, but our dataset is very large, so it is not that bad."
   ]
  },
  {
   "cell_type": "code",
   "execution_count": 80,
   "metadata": {},
   "outputs": [],
   "source": [
    "cleaned_data.to_csv('cleaned_franklin.csv')"
   ]
  }
 ],
 "metadata": {
  "kernelspec": {
   "display_name": "Python 3.9.12 ('base')",
   "language": "python",
   "name": "python3"
  },
  "language_info": {
   "codemirror_mode": {
    "name": "ipython",
    "version": 3
   },
   "file_extension": ".py",
   "mimetype": "text/x-python",
   "name": "python",
   "nbconvert_exporter": "python",
   "pygments_lexer": "ipython3",
   "version": "3.9.12"
  },
  "orig_nbformat": 4,
  "vscode": {
   "interpreter": {
    "hash": "f8b40d688a12481f01eadf7380c47edd8a49484a47dba3db091451640e880c68"
   }
  }
 },
 "nbformat": 4,
 "nbformat_minor": 2
}
