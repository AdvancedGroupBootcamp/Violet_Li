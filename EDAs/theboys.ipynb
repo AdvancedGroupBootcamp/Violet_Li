{
 "cells": [
  {
   "cell_type": "code",
   "execution_count": 2,
   "id": "24e8840f",
   "metadata": {},
   "outputs": [],
   "source": [
    "import os\n",
    "import numpy as np\n",
    "import pandas as pd\n",
    "import matplotlib\n",
    "import matplotlib.pyplot as plt"
   ]
  },
  {
   "cell_type": "code",
   "execution_count": 3,
   "id": "cab67796",
   "metadata": {},
   "outputs": [
    {
     "name": "stdout",
     "output_type": "stream",
     "text": [
      "{'s01': 8, 's02': 8, 's03': 8}\n"
     ]
    }
   ],
   "source": [
    "seasons={}\n",
    "\n",
    "for file in os.listdir(r'E:\\Violet\\2022Fall\\bootcamp\\datasets\\datasets\\the_boys'):\n",
    "    if file[:3] in seasons:\n",
    "        seasons[file[:3]]+=1\n",
    "    else:\n",
    "        seasons[file[:3]]=1\n",
    "print(seasons)\n",
    "    "
   ]
  },
  {
   "cell_type": "code",
   "execution_count": 4,
   "id": "e1aac11d",
   "metadata": {},
   "outputs": [],
   "source": [
    "def dataframe_generation(directory,season_num):\n",
    "    season = 's0'+str(season_num)\n",
    "    for file in os.listdir(directory):\n",
    "        if file == season+'e01.csv':\n",
    "            file_all = pd.read_csv('E:\\\\Violet\\\\2022Fall\\\\bootcamp\\\\datasets\\\\datasets\\\\the_boys'+'\\\\'+file)\n",
    "        elif file[:3] == season:\n",
    "            file_i = pd.read_csv('E:\\\\Violet\\\\2022Fall\\\\bootcamp\\\\datasets\\\\datasets\\\\the_boys'+'\\\\'+file)\n",
    "            file_all=pd.concat([file_all,file_i])\n",
    "    file_all=file_all.reset_index()\n",
    "    return file_all"
   ]
  },
  {
   "cell_type": "code",
   "execution_count": 5,
   "id": "e2db3efd",
   "metadata": {},
   "outputs": [],
   "source": [
    "def get_most_appearance(df):\n",
    "    return df[df['nconst'] == (df['nconst'].value_counts().to_frame().index[0])]['character'].unique()"
   ]
  },
  {
   "cell_type": "code",
   "execution_count": 6,
   "id": "ff6982ff",
   "metadata": {},
   "outputs": [],
   "source": [
    "def get_on_screen_time_ranking(df):\n",
    "    s1_dic={}\n",
    "    for i in range(len(df)):\n",
    "        show_i = df.loc[i]\n",
    "        appearance_time=show_i['duration']\n",
    "        if show_i['nconst'] in s1_dic:\n",
    "            s1_dic[show_i['nconst']]+=appearance_time\n",
    "        else:\n",
    "            s1_dic[show_i['nconst']]=appearance_time\n",
    "    names=list(s1_dic.keys())\n",
    "    values=list(s1_dic.values())\n",
    "    df = pd.DataFrame(list(zip(names, values)),\n",
    "        columns =['nconst', 'time'])\n",
    "    a=df.sort_values(by=['time'],ascending=False)\n",
    "    return a"
   ]
  },
  {
   "cell_type": "code",
   "execution_count": 7,
   "id": "86920716",
   "metadata": {},
   "outputs": [],
   "source": [
    "def get_most_appearance(df):\n",
    "    return df[df['nconst'] == (df['nconst'].value_counts().to_frame().index[0])]['character'].unique()"
   ]
  },
  {
   "cell_type": "code",
   "execution_count": 8,
   "id": "d51d5541",
   "metadata": {},
   "outputs": [],
   "source": [
    "def get_character_from_nconst(df,nconst):\n",
    "    return df[df['nconst']==nconst]['character'].unique()"
   ]
  },
  {
   "cell_type": "code",
   "execution_count": 9,
   "id": "1693eaad",
   "metadata": {},
   "outputs": [],
   "source": [
    "def find_out_who_died(list_former,list_later):\n",
    "    for artisit_i in list_former:\n",
    "        if artisit_i not in list_later:\n",
    "            print(artisit_i,'is cancelled in later season.')\n"
   ]
  },
  {
   "cell_type": "markdown",
   "id": "6db81068",
   "metadata": {},
   "source": [
    "Season 1"
   ]
  },
  {
   "cell_type": "code",
   "execution_count": 10,
   "id": "42e82866",
   "metadata": {},
   "outputs": [
    {
     "data": {
      "text/html": [
       "<div>\n",
       "<style scoped>\n",
       "    .dataframe tbody tr th:only-of-type {\n",
       "        vertical-align: middle;\n",
       "    }\n",
       "\n",
       "    .dataframe tbody tr th {\n",
       "        vertical-align: top;\n",
       "    }\n",
       "\n",
       "    .dataframe thead th {\n",
       "        text-align: right;\n",
       "    }\n",
       "</style>\n",
       "<table border=\"1\" class=\"dataframe\">\n",
       "  <thead>\n",
       "    <tr style=\"text-align: right;\">\n",
       "      <th></th>\n",
       "      <th>index</th>\n",
       "      <th>nconst</th>\n",
       "      <th>character</th>\n",
       "      <th>start</th>\n",
       "      <th>end</th>\n",
       "      <th>duration</th>\n",
       "    </tr>\n",
       "  </thead>\n",
       "  <tbody>\n",
       "    <tr>\n",
       "      <th>0</th>\n",
       "      <td>0</td>\n",
       "      <td>nm8488639</td>\n",
       "      <td>Benjy</td>\n",
       "      <td>32000</td>\n",
       "      <td>155000</td>\n",
       "      <td>123000</td>\n",
       "    </tr>\n",
       "    <tr>\n",
       "      <th>1</th>\n",
       "      <td>1</td>\n",
       "      <td>nm4240263</td>\n",
       "      <td>Jamie</td>\n",
       "      <td>33000</td>\n",
       "      <td>155000</td>\n",
       "      <td>122000</td>\n",
       "    </tr>\n",
       "    <tr>\n",
       "      <th>2</th>\n",
       "      <td>2</td>\n",
       "      <td>nm1069800</td>\n",
       "      <td>Queen Maeve</td>\n",
       "      <td>82000</td>\n",
       "      <td>155000</td>\n",
       "      <td>73000</td>\n",
       "    </tr>\n",
       "    <tr>\n",
       "      <th>3</th>\n",
       "      <td>3</td>\n",
       "      <td>nm0651456</td>\n",
       "      <td>Desperate Thief #1</td>\n",
       "      <td>100000</td>\n",
       "      <td>155000</td>\n",
       "      <td>55000</td>\n",
       "    </tr>\n",
       "    <tr>\n",
       "      <th>4</th>\n",
       "      <td>4</td>\n",
       "      <td>nm1102278</td>\n",
       "      <td>Homelander</td>\n",
       "      <td>130000</td>\n",
       "      <td>155000</td>\n",
       "      <td>25000</td>\n",
       "    </tr>\n",
       "  </tbody>\n",
       "</table>\n",
       "</div>"
      ],
      "text/plain": [
       "   index     nconst           character   start     end  duration\n",
       "0      0  nm8488639               Benjy   32000  155000    123000\n",
       "1      1  nm4240263               Jamie   33000  155000    122000\n",
       "2      2  nm1069800         Queen Maeve   82000  155000     73000\n",
       "3      3  nm0651456  Desperate Thief #1  100000  155000     55000\n",
       "4      4  nm1102278          Homelander  130000  155000     25000"
      ]
     },
     "execution_count": 10,
     "metadata": {},
     "output_type": "execute_result"
    }
   ],
   "source": [
    "base_directory = r'E:\\Violet\\2022Fall\\bootcamp\\datasets\\datasets\\the_boys' # Please change this to your local directory\n",
    "season_1_df = dataframe_generation(base_directory,1)\n",
    "season_1_df['duration'] = season_1_df.apply(lambda x: (x.end - x.start), axis=1) #Add duration\n",
    "season_1_df.head(5)"
   ]
  },
  {
   "cell_type": "code",
   "execution_count": 12,
   "id": "03cab9cb",
   "metadata": {},
   "outputs": [
    {
     "data": {
      "text/html": [
       "<div>\n",
       "<style scoped>\n",
       "    .dataframe tbody tr th:only-of-type {\n",
       "        vertical-align: middle;\n",
       "    }\n",
       "\n",
       "    .dataframe tbody tr th {\n",
       "        vertical-align: top;\n",
       "    }\n",
       "\n",
       "    .dataframe thead th {\n",
       "        text-align: right;\n",
       "    }\n",
       "</style>\n",
       "<table border=\"1\" class=\"dataframe\">\n",
       "  <thead>\n",
       "    <tr style=\"text-align: right;\">\n",
       "      <th></th>\n",
       "      <th>nconst</th>\n",
       "    </tr>\n",
       "  </thead>\n",
       "  <tbody>\n",
       "    <tr>\n",
       "      <th>nm4425051</th>\n",
       "      <td>66</td>\n",
       "    </tr>\n",
       "    <tr>\n",
       "      <th>nm0881631</th>\n",
       "      <td>65</td>\n",
       "    </tr>\n",
       "    <tr>\n",
       "      <th>nm6150071</th>\n",
       "      <td>44</td>\n",
       "    </tr>\n",
       "    <tr>\n",
       "      <th>nm1102278</th>\n",
       "      <td>42</td>\n",
       "    </tr>\n",
       "    <tr>\n",
       "      <th>nm3929195</th>\n",
       "      <td>42</td>\n",
       "    </tr>\n",
       "    <tr>\n",
       "      <th>...</th>\n",
       "      <td>...</td>\n",
       "    </tr>\n",
       "    <tr>\n",
       "      <th>nm4240263</th>\n",
       "      <td>1</td>\n",
       "    </tr>\n",
       "    <tr>\n",
       "      <th>nm7836038</th>\n",
       "      <td>1</td>\n",
       "    </tr>\n",
       "    <tr>\n",
       "      <th>nm7325131</th>\n",
       "      <td>1</td>\n",
       "    </tr>\n",
       "    <tr>\n",
       "      <th>nm6736759</th>\n",
       "      <td>1</td>\n",
       "    </tr>\n",
       "    <tr>\n",
       "      <th>nm10859043</th>\n",
       "      <td>1</td>\n",
       "    </tr>\n",
       "  </tbody>\n",
       "</table>\n",
       "<p>129 rows × 1 columns</p>\n",
       "</div>"
      ],
      "text/plain": [
       "            nconst\n",
       "nm4425051       66\n",
       "nm0881631       65\n",
       "nm6150071       44\n",
       "nm1102278       42\n",
       "nm3929195       42\n",
       "...            ...\n",
       "nm4240263        1\n",
       "nm7836038        1\n",
       "nm7325131        1\n",
       "nm6736759        1\n",
       "nm10859043       1\n",
       "\n",
       "[129 rows x 1 columns]"
      ]
     },
     "execution_count": 12,
     "metadata": {},
     "output_type": "execute_result"
    }
   ],
   "source": [
    "season_1_df['nconst'].value_counts().to_frame() # Season 1 ranking by appearance times"
   ]
  },
  {
   "cell_type": "code",
   "execution_count": 13,
   "id": "a679cbc9",
   "metadata": {},
   "outputs": [
    {
     "name": "stdout",
     "output_type": "stream",
     "text": [
      "The person with the most number of appearance occations of season 1:\n"
     ]
    },
    {
     "data": {
      "text/plain": [
       "array(['Hughie Campbell'], dtype=object)"
      ]
     },
     "execution_count": 13,
     "metadata": {},
     "output_type": "execute_result"
    }
   ],
   "source": [
    "print(\"The person with the most number of appearance occations of season 1:\")\n",
    "get_character_from_nconst(season_1_df,season_1_df['nconst'].value_counts().to_frame().index[0])"
   ]
  },
  {
   "cell_type": "code",
   "execution_count": 14,
   "id": "8a00a3e3",
   "metadata": {},
   "outputs": [
    {
     "data": {
      "text/html": [
       "<div>\n",
       "<style scoped>\n",
       "    .dataframe tbody tr th:only-of-type {\n",
       "        vertical-align: middle;\n",
       "    }\n",
       "\n",
       "    .dataframe tbody tr th {\n",
       "        vertical-align: top;\n",
       "    }\n",
       "\n",
       "    .dataframe thead th {\n",
       "        text-align: right;\n",
       "    }\n",
       "</style>\n",
       "<table border=\"1\" class=\"dataframe\">\n",
       "  <thead>\n",
       "    <tr style=\"text-align: right;\">\n",
       "      <th></th>\n",
       "      <th>index</th>\n",
       "      <th>nconst</th>\n",
       "      <th>time</th>\n",
       "    </tr>\n",
       "  </thead>\n",
       "  <tbody>\n",
       "    <tr>\n",
       "      <th>0</th>\n",
       "      <td>6</td>\n",
       "      <td>nm4425051</td>\n",
       "      <td>12122000</td>\n",
       "    </tr>\n",
       "    <tr>\n",
       "      <th>1</th>\n",
       "      <td>21</td>\n",
       "      <td>nm0881631</td>\n",
       "      <td>10565000</td>\n",
       "    </tr>\n",
       "    <tr>\n",
       "      <th>2</th>\n",
       "      <td>31</td>\n",
       "      <td>nm6150071</td>\n",
       "      <td>7469000</td>\n",
       "    </tr>\n",
       "    <tr>\n",
       "      <th>3</th>\n",
       "      <td>10</td>\n",
       "      <td>nm3929195</td>\n",
       "      <td>6563000</td>\n",
       "    </tr>\n",
       "    <tr>\n",
       "      <th>4</th>\n",
       "      <td>51</td>\n",
       "      <td>nm0022306</td>\n",
       "      <td>6264000</td>\n",
       "    </tr>\n",
       "    <tr>\n",
       "      <th>...</th>\n",
       "      <td>...</td>\n",
       "      <td>...</td>\n",
       "      <td>...</td>\n",
       "    </tr>\n",
       "    <tr>\n",
       "      <th>124</th>\n",
       "      <td>39</td>\n",
       "      <td>nm6844613</td>\n",
       "      <td>21000</td>\n",
       "    </tr>\n",
       "    <tr>\n",
       "      <th>125</th>\n",
       "      <td>108</td>\n",
       "      <td>nm0715250</td>\n",
       "      <td>21000</td>\n",
       "    </tr>\n",
       "    <tr>\n",
       "      <th>126</th>\n",
       "      <td>19</td>\n",
       "      <td>nm4981734</td>\n",
       "      <td>20000</td>\n",
       "    </tr>\n",
       "    <tr>\n",
       "      <th>127</th>\n",
       "      <td>113</td>\n",
       "      <td>nm2854706</td>\n",
       "      <td>11000</td>\n",
       "    </tr>\n",
       "    <tr>\n",
       "      <th>128</th>\n",
       "      <td>67</td>\n",
       "      <td>nm0035334</td>\n",
       "      <td>10000</td>\n",
       "    </tr>\n",
       "  </tbody>\n",
       "</table>\n",
       "<p>129 rows × 3 columns</p>\n",
       "</div>"
      ],
      "text/plain": [
       "     index     nconst      time\n",
       "0        6  nm4425051  12122000\n",
       "1       21  nm0881631  10565000\n",
       "2       31  nm6150071   7469000\n",
       "3       10  nm3929195   6563000\n",
       "4       51  nm0022306   6264000\n",
       "..     ...        ...       ...\n",
       "124     39  nm6844613     21000\n",
       "125    108  nm0715250     21000\n",
       "126     19  nm4981734     20000\n",
       "127    113  nm2854706     11000\n",
       "128     67  nm0035334     10000\n",
       "\n",
       "[129 rows x 3 columns]"
      ]
     },
     "execution_count": 14,
     "metadata": {},
     "output_type": "execute_result"
    }
   ],
   "source": [
    "s1_on_screen_time_ranking = get_on_screen_time_ranking(season_1_df)\n",
    "s1_on_screen_time_ranking.reset_index()"
   ]
  },
  {
   "cell_type": "code",
   "execution_count": 15,
   "id": "7fc51298",
   "metadata": {},
   "outputs": [
    {
     "name": "stdout",
     "output_type": "stream",
     "text": [
      "The person with the most on-screen time of season 1:\n"
     ]
    },
    {
     "data": {
      "text/plain": [
       "array(['Hughie Campbell'], dtype=object)"
      ]
     },
     "execution_count": 15,
     "metadata": {},
     "output_type": "execute_result"
    }
   ],
   "source": [
    "print(\"The person with the most on-screen time of season 1:\")\n",
    "get_character_from_nconst(season_1_df,s1_on_screen_time_ranking.iloc[0]['nconst'])"
   ]
  },
  {
   "cell_type": "markdown",
   "id": "ddb7460e",
   "metadata": {},
   "source": [
    "Season 2"
   ]
  },
  {
   "cell_type": "code",
   "execution_count": 16,
   "id": "feec290f",
   "metadata": {},
   "outputs": [
    {
     "data": {
      "text/html": [
       "<div>\n",
       "<style scoped>\n",
       "    .dataframe tbody tr th:only-of-type {\n",
       "        vertical-align: middle;\n",
       "    }\n",
       "\n",
       "    .dataframe tbody tr th {\n",
       "        vertical-align: top;\n",
       "    }\n",
       "\n",
       "    .dataframe thead th {\n",
       "        text-align: right;\n",
       "    }\n",
       "</style>\n",
       "<table border=\"1\" class=\"dataframe\">\n",
       "  <thead>\n",
       "    <tr style=\"text-align: right;\">\n",
       "      <th></th>\n",
       "      <th>index</th>\n",
       "      <th>nconst</th>\n",
       "      <th>character</th>\n",
       "      <th>start</th>\n",
       "      <th>end</th>\n",
       "      <th>duration</th>\n",
       "    </tr>\n",
       "  </thead>\n",
       "  <tbody>\n",
       "    <tr>\n",
       "      <th>0</th>\n",
       "      <td>0</td>\n",
       "      <td>nm3901596</td>\n",
       "      <td>Doug Friedman</td>\n",
       "      <td>183000</td>\n",
       "      <td>371000</td>\n",
       "      <td>188000</td>\n",
       "    </tr>\n",
       "    <tr>\n",
       "      <th>1</th>\n",
       "      <td>1</td>\n",
       "      <td>nm0002064</td>\n",
       "      <td>Stan Edgar</td>\n",
       "      <td>199000</td>\n",
       "      <td>371000</td>\n",
       "      <td>172000</td>\n",
       "    </tr>\n",
       "    <tr>\n",
       "      <th>2</th>\n",
       "      <td>2</td>\n",
       "      <td>nm0064769</td>\n",
       "      <td>Robert Singer</td>\n",
       "      <td>203000</td>\n",
       "      <td>371000</td>\n",
       "      <td>168000</td>\n",
       "    </tr>\n",
       "    <tr>\n",
       "      <th>3</th>\n",
       "      <td>3</td>\n",
       "      <td>nm4877882</td>\n",
       "      <td>Naqib</td>\n",
       "      <td>293000</td>\n",
       "      <td>371000</td>\n",
       "      <td>78000</td>\n",
       "    </tr>\n",
       "    <tr>\n",
       "      <th>4</th>\n",
       "      <td>4</td>\n",
       "      <td>nm10800302</td>\n",
       "      <td>Rafiq</td>\n",
       "      <td>297000</td>\n",
       "      <td>371000</td>\n",
       "      <td>74000</td>\n",
       "    </tr>\n",
       "  </tbody>\n",
       "</table>\n",
       "</div>"
      ],
      "text/plain": [
       "   index      nconst      character   start     end  duration\n",
       "0      0   nm3901596  Doug Friedman  183000  371000    188000\n",
       "1      1   nm0002064     Stan Edgar  199000  371000    172000\n",
       "2      2   nm0064769  Robert Singer  203000  371000    168000\n",
       "3      3   nm4877882          Naqib  293000  371000     78000\n",
       "4      4  nm10800302          Rafiq  297000  371000     74000"
      ]
     },
     "execution_count": 16,
     "metadata": {},
     "output_type": "execute_result"
    }
   ],
   "source": [
    "base_directory = r'E:\\Violet\\2022Fall\\bootcamp\\datasets\\datasets\\the_boys'\n",
    "season_2_df = dataframe_generation(base_directory,2)\n",
    "season_2_df['duration'] = season_2_df.apply(lambda x: (x.end - x.start), axis=1) #Add duration\n",
    "season_2_df.head(5)"
   ]
  },
  {
   "cell_type": "code",
   "execution_count": 17,
   "id": "2f9c9e65",
   "metadata": {},
   "outputs": [
    {
     "data": {
      "text/html": [
       "<div>\n",
       "<style scoped>\n",
       "    .dataframe tbody tr th:only-of-type {\n",
       "        vertical-align: middle;\n",
       "    }\n",
       "\n",
       "    .dataframe tbody tr th {\n",
       "        vertical-align: top;\n",
       "    }\n",
       "\n",
       "    .dataframe thead th {\n",
       "        text-align: right;\n",
       "    }\n",
       "</style>\n",
       "<table border=\"1\" class=\"dataframe\">\n",
       "  <thead>\n",
       "    <tr style=\"text-align: right;\">\n",
       "      <th></th>\n",
       "      <th>nconst</th>\n",
       "    </tr>\n",
       "  </thead>\n",
       "  <tbody>\n",
       "    <tr>\n",
       "      <th>nm4425051</th>\n",
       "      <td>64</td>\n",
       "    </tr>\n",
       "    <tr>\n",
       "      <th>nm0881631</th>\n",
       "      <td>58</td>\n",
       "    </tr>\n",
       "    <tr>\n",
       "      <th>nm3929195</th>\n",
       "      <td>57</td>\n",
       "    </tr>\n",
       "    <tr>\n",
       "      <th>nm1102278</th>\n",
       "      <td>56</td>\n",
       "    </tr>\n",
       "    <tr>\n",
       "      <th>nm0022306</th>\n",
       "      <td>54</td>\n",
       "    </tr>\n",
       "    <tr>\n",
       "      <th>...</th>\n",
       "      <td>...</td>\n",
       "    </tr>\n",
       "    <tr>\n",
       "      <th>nm1051091</th>\n",
       "      <td>1</td>\n",
       "    </tr>\n",
       "    <tr>\n",
       "      <th>nm0625664</th>\n",
       "      <td>1</td>\n",
       "    </tr>\n",
       "    <tr>\n",
       "      <th>nm0391738</th>\n",
       "      <td>1</td>\n",
       "    </tr>\n",
       "    <tr>\n",
       "      <th>nm8621079</th>\n",
       "      <td>1</td>\n",
       "    </tr>\n",
       "    <tr>\n",
       "      <th>nm5408297</th>\n",
       "      <td>1</td>\n",
       "    </tr>\n",
       "  </tbody>\n",
       "</table>\n",
       "<p>109 rows × 1 columns</p>\n",
       "</div>"
      ],
      "text/plain": [
       "           nconst\n",
       "nm4425051      64\n",
       "nm0881631      58\n",
       "nm3929195      57\n",
       "nm1102278      56\n",
       "nm0022306      54\n",
       "...           ...\n",
       "nm1051091       1\n",
       "nm0625664       1\n",
       "nm0391738       1\n",
       "nm8621079       1\n",
       "nm5408297       1\n",
       "\n",
       "[109 rows x 1 columns]"
      ]
     },
     "execution_count": 17,
     "metadata": {},
     "output_type": "execute_result"
    }
   ],
   "source": [
    "season_2_df['nconst'].value_counts().to_frame() # Season 2 ranking by appearance times"
   ]
  },
  {
   "cell_type": "code",
   "execution_count": 18,
   "id": "aff4c319",
   "metadata": {},
   "outputs": [
    {
     "name": "stdout",
     "output_type": "stream",
     "text": [
      "The person with the most number of appearance occations of season 2:\n"
     ]
    },
    {
     "data": {
      "text/plain": [
       "array(['Hughie Campbell'], dtype=object)"
      ]
     },
     "execution_count": 18,
     "metadata": {},
     "output_type": "execute_result"
    }
   ],
   "source": [
    "print(\"The person with the most number of appearance occations of season 2:\")\n",
    "get_character_from_nconst(season_2_df,season_2_df['nconst'].value_counts().to_frame().index[0])"
   ]
  },
  {
   "cell_type": "code",
   "execution_count": 19,
   "id": "1fe8b880",
   "metadata": {},
   "outputs": [
    {
     "data": {
      "text/html": [
       "<div>\n",
       "<style scoped>\n",
       "    .dataframe tbody tr th:only-of-type {\n",
       "        vertical-align: middle;\n",
       "    }\n",
       "\n",
       "    .dataframe tbody tr th {\n",
       "        vertical-align: top;\n",
       "    }\n",
       "\n",
       "    .dataframe thead th {\n",
       "        text-align: right;\n",
       "    }\n",
       "</style>\n",
       "<table border=\"1\" class=\"dataframe\">\n",
       "  <thead>\n",
       "    <tr style=\"text-align: right;\">\n",
       "      <th></th>\n",
       "      <th>index</th>\n",
       "      <th>nconst</th>\n",
       "      <th>time</th>\n",
       "    </tr>\n",
       "  </thead>\n",
       "  <tbody>\n",
       "    <tr>\n",
       "      <th>0</th>\n",
       "      <td>12</td>\n",
       "      <td>nm4425051</td>\n",
       "      <td>8537000</td>\n",
       "    </tr>\n",
       "    <tr>\n",
       "      <th>1</th>\n",
       "      <td>36</td>\n",
       "      <td>nm0881631</td>\n",
       "      <td>8273000</td>\n",
       "    </tr>\n",
       "    <tr>\n",
       "      <th>2</th>\n",
       "      <td>17</td>\n",
       "      <td>nm0022306</td>\n",
       "      <td>7936000</td>\n",
       "    </tr>\n",
       "    <tr>\n",
       "      <th>3</th>\n",
       "      <td>7</td>\n",
       "      <td>nm1102278</td>\n",
       "      <td>7571000</td>\n",
       "    </tr>\n",
       "    <tr>\n",
       "      <th>4</th>\n",
       "      <td>9</td>\n",
       "      <td>nm3929195</td>\n",
       "      <td>7569000</td>\n",
       "    </tr>\n",
       "    <tr>\n",
       "      <th>...</th>\n",
       "      <td>...</td>\n",
       "      <td>...</td>\n",
       "      <td>...</td>\n",
       "    </tr>\n",
       "    <tr>\n",
       "      <th>104</th>\n",
       "      <td>65</td>\n",
       "      <td>nm6596476</td>\n",
       "      <td>26000</td>\n",
       "    </tr>\n",
       "    <tr>\n",
       "      <th>105</th>\n",
       "      <td>71</td>\n",
       "      <td>nm5318612</td>\n",
       "      <td>26000</td>\n",
       "    </tr>\n",
       "    <tr>\n",
       "      <th>106</th>\n",
       "      <td>104</td>\n",
       "      <td>nm3997201</td>\n",
       "      <td>20000</td>\n",
       "    </tr>\n",
       "    <tr>\n",
       "      <th>107</th>\n",
       "      <td>73</td>\n",
       "      <td>nm0640669</td>\n",
       "      <td>10000</td>\n",
       "    </tr>\n",
       "    <tr>\n",
       "      <th>108</th>\n",
       "      <td>105</td>\n",
       "      <td>nm2555508</td>\n",
       "      <td>10000</td>\n",
       "    </tr>\n",
       "  </tbody>\n",
       "</table>\n",
       "<p>109 rows × 3 columns</p>\n",
       "</div>"
      ],
      "text/plain": [
       "     index     nconst     time\n",
       "0       12  nm4425051  8537000\n",
       "1       36  nm0881631  8273000\n",
       "2       17  nm0022306  7936000\n",
       "3        7  nm1102278  7571000\n",
       "4        9  nm3929195  7569000\n",
       "..     ...        ...      ...\n",
       "104     65  nm6596476    26000\n",
       "105     71  nm5318612    26000\n",
       "106    104  nm3997201    20000\n",
       "107     73  nm0640669    10000\n",
       "108    105  nm2555508    10000\n",
       "\n",
       "[109 rows x 3 columns]"
      ]
     },
     "execution_count": 19,
     "metadata": {},
     "output_type": "execute_result"
    }
   ],
   "source": [
    "s2_on_screen_time_ranking = get_on_screen_time_ranking(season_2_df)\n",
    "s2_on_screen_time_ranking.reset_index()"
   ]
  },
  {
   "cell_type": "code",
   "execution_count": 20,
   "id": "7ec360e9",
   "metadata": {},
   "outputs": [
    {
     "name": "stdout",
     "output_type": "stream",
     "text": [
      "The person with the most on-screen time of season 2:\n"
     ]
    },
    {
     "data": {
      "text/plain": [
       "array(['Hughie Campbell'], dtype=object)"
      ]
     },
     "execution_count": 20,
     "metadata": {},
     "output_type": "execute_result"
    }
   ],
   "source": [
    "print(\"The person with the most on-screen time of season 2:\")\n",
    "get_character_from_nconst(season_2_df,s2_on_screen_time_ranking.iloc[0]['nconst'])"
   ]
  },
  {
   "cell_type": "markdown",
   "id": "eb15a90f",
   "metadata": {},
   "source": [
    "Season 3"
   ]
  },
  {
   "cell_type": "code",
   "execution_count": 21,
   "id": "90a2337d",
   "metadata": {},
   "outputs": [
    {
     "data": {
      "text/html": [
       "<div>\n",
       "<style scoped>\n",
       "    .dataframe tbody tr th:only-of-type {\n",
       "        vertical-align: middle;\n",
       "    }\n",
       "\n",
       "    .dataframe tbody tr th {\n",
       "        vertical-align: top;\n",
       "    }\n",
       "\n",
       "    .dataframe thead th {\n",
       "        text-align: right;\n",
       "    }\n",
       "</style>\n",
       "<table border=\"1\" class=\"dataframe\">\n",
       "  <thead>\n",
       "    <tr style=\"text-align: right;\">\n",
       "      <th></th>\n",
       "      <th>index</th>\n",
       "      <th>nconst</th>\n",
       "      <th>character</th>\n",
       "      <th>start</th>\n",
       "      <th>end</th>\n",
       "      <th>duration</th>\n",
       "    </tr>\n",
       "  </thead>\n",
       "  <tbody>\n",
       "    <tr>\n",
       "      <th>0</th>\n",
       "      <td>0</td>\n",
       "      <td>nm1102278</td>\n",
       "      <td>Homelander</td>\n",
       "      <td>126000</td>\n",
       "      <td>230000</td>\n",
       "      <td>104000</td>\n",
       "    </tr>\n",
       "    <tr>\n",
       "      <th>1</th>\n",
       "      <td>1</td>\n",
       "      <td>nm1069800</td>\n",
       "      <td>Queen Maeve</td>\n",
       "      <td>194000</td>\n",
       "      <td>230000</td>\n",
       "      <td>36000</td>\n",
       "    </tr>\n",
       "    <tr>\n",
       "      <th>2</th>\n",
       "      <td>2</td>\n",
       "      <td>nm3929195</td>\n",
       "      <td>Starlight</td>\n",
       "      <td>195000</td>\n",
       "      <td>230000</td>\n",
       "      <td>35000</td>\n",
       "    </tr>\n",
       "    <tr>\n",
       "      <th>3</th>\n",
       "      <td>3</td>\n",
       "      <td>nm1756121</td>\n",
       "      <td>Black Noir</td>\n",
       "      <td>198000</td>\n",
       "      <td>230000</td>\n",
       "      <td>32000</td>\n",
       "    </tr>\n",
       "    <tr>\n",
       "      <th>4</th>\n",
       "      <td>4</td>\n",
       "      <td>nm1900772</td>\n",
       "      <td>A-Train</td>\n",
       "      <td>201000</td>\n",
       "      <td>230000</td>\n",
       "      <td>29000</td>\n",
       "    </tr>\n",
       "  </tbody>\n",
       "</table>\n",
       "</div>"
      ],
      "text/plain": [
       "   index     nconst    character   start     end  duration\n",
       "0      0  nm1102278   Homelander  126000  230000    104000\n",
       "1      1  nm1069800  Queen Maeve  194000  230000     36000\n",
       "2      2  nm3929195    Starlight  195000  230000     35000\n",
       "3      3  nm1756121   Black Noir  198000  230000     32000\n",
       "4      4  nm1900772      A-Train  201000  230000     29000"
      ]
     },
     "execution_count": 21,
     "metadata": {},
     "output_type": "execute_result"
    }
   ],
   "source": [
    "base_directory = r'E:\\Violet\\2022Fall\\bootcamp\\datasets\\datasets\\the_boys'\n",
    "season_3_df = dataframe_generation(base_directory,3)\n",
    "season_3_df['duration'] = season_3_df.apply(lambda x: (x.end - x.start), axis=1) #Add duration\n",
    "season_3_df.head(5)"
   ]
  },
  {
   "cell_type": "code",
   "execution_count": 22,
   "id": "29abf98d",
   "metadata": {},
   "outputs": [
    {
     "data": {
      "text/html": [
       "<div>\n",
       "<style scoped>\n",
       "    .dataframe tbody tr th:only-of-type {\n",
       "        vertical-align: middle;\n",
       "    }\n",
       "\n",
       "    .dataframe tbody tr th {\n",
       "        vertical-align: top;\n",
       "    }\n",
       "\n",
       "    .dataframe thead th {\n",
       "        text-align: right;\n",
       "    }\n",
       "</style>\n",
       "<table border=\"1\" class=\"dataframe\">\n",
       "  <thead>\n",
       "    <tr style=\"text-align: right;\">\n",
       "      <th></th>\n",
       "      <th>nconst</th>\n",
       "    </tr>\n",
       "  </thead>\n",
       "  <tbody>\n",
       "    <tr>\n",
       "      <th>nm0881631</th>\n",
       "      <td>130</td>\n",
       "    </tr>\n",
       "    <tr>\n",
       "      <th>nm4425051</th>\n",
       "      <td>125</td>\n",
       "    </tr>\n",
       "    <tr>\n",
       "      <th>nm3929195</th>\n",
       "      <td>109</td>\n",
       "    </tr>\n",
       "    <tr>\n",
       "      <th>nm1102278</th>\n",
       "      <td>103</td>\n",
       "    </tr>\n",
       "    <tr>\n",
       "      <th>nm0022306</th>\n",
       "      <td>91</td>\n",
       "    </tr>\n",
       "    <tr>\n",
       "      <th>...</th>\n",
       "      <td>...</td>\n",
       "    </tr>\n",
       "    <tr>\n",
       "      <th>nm1108188</th>\n",
       "      <td>1</td>\n",
       "    </tr>\n",
       "    <tr>\n",
       "      <th>nm8346956</th>\n",
       "      <td>1</td>\n",
       "    </tr>\n",
       "    <tr>\n",
       "      <th>nm0312334</th>\n",
       "      <td>1</td>\n",
       "    </tr>\n",
       "    <tr>\n",
       "      <th>nm8530399</th>\n",
       "      <td>1</td>\n",
       "    </tr>\n",
       "    <tr>\n",
       "      <th>nm5045671</th>\n",
       "      <td>1</td>\n",
       "    </tr>\n",
       "  </tbody>\n",
       "</table>\n",
       "<p>123 rows × 1 columns</p>\n",
       "</div>"
      ],
      "text/plain": [
       "           nconst\n",
       "nm0881631     130\n",
       "nm4425051     125\n",
       "nm3929195     109\n",
       "nm1102278     103\n",
       "nm0022306      91\n",
       "...           ...\n",
       "nm1108188       1\n",
       "nm8346956       1\n",
       "nm0312334       1\n",
       "nm8530399       1\n",
       "nm5045671       1\n",
       "\n",
       "[123 rows x 1 columns]"
      ]
     },
     "execution_count": 22,
     "metadata": {},
     "output_type": "execute_result"
    }
   ],
   "source": [
    "season_3_df['nconst'].value_counts().to_frame() # Season 3 ranking by appearance times"
   ]
  },
  {
   "cell_type": "code",
   "execution_count": 23,
   "id": "2e6f870b",
   "metadata": {},
   "outputs": [
    {
     "name": "stdout",
     "output_type": "stream",
     "text": [
      "The person with the most number of appearance occations of season 3:\n"
     ]
    },
    {
     "data": {
      "text/plain": [
       "array(['Butcher'], dtype=object)"
      ]
     },
     "execution_count": 23,
     "metadata": {},
     "output_type": "execute_result"
    }
   ],
   "source": [
    "print(\"The person with the most number of appearance occations of season 3:\")\n",
    "get_character_from_nconst(season_3_df,season_3_df['nconst'].value_counts().to_frame().index[0])"
   ]
  },
  {
   "cell_type": "code",
   "execution_count": 24,
   "id": "3a540e68",
   "metadata": {},
   "outputs": [
    {
     "data": {
      "text/html": [
       "<div>\n",
       "<style scoped>\n",
       "    .dataframe tbody tr th:only-of-type {\n",
       "        vertical-align: middle;\n",
       "    }\n",
       "\n",
       "    .dataframe tbody tr th {\n",
       "        vertical-align: top;\n",
       "    }\n",
       "\n",
       "    .dataframe thead th {\n",
       "        text-align: right;\n",
       "    }\n",
       "</style>\n",
       "<table border=\"1\" class=\"dataframe\">\n",
       "  <thead>\n",
       "    <tr style=\"text-align: right;\">\n",
       "      <th></th>\n",
       "      <th>index</th>\n",
       "      <th>nconst</th>\n",
       "      <th>time</th>\n",
       "    </tr>\n",
       "  </thead>\n",
       "  <tbody>\n",
       "    <tr>\n",
       "      <th>0</th>\n",
       "      <td>12</td>\n",
       "      <td>nm0881631</td>\n",
       "      <td>8005000</td>\n",
       "    </tr>\n",
       "    <tr>\n",
       "      <th>1</th>\n",
       "      <td>9</td>\n",
       "      <td>nm4425051</td>\n",
       "      <td>7285000</td>\n",
       "    </tr>\n",
       "    <tr>\n",
       "      <th>2</th>\n",
       "      <td>0</td>\n",
       "      <td>nm1102278</td>\n",
       "      <td>6646000</td>\n",
       "    </tr>\n",
       "    <tr>\n",
       "      <th>3</th>\n",
       "      <td>2</td>\n",
       "      <td>nm3929195</td>\n",
       "      <td>6368000</td>\n",
       "    </tr>\n",
       "    <tr>\n",
       "      <th>4</th>\n",
       "      <td>30</td>\n",
       "      <td>nm0022306</td>\n",
       "      <td>4974000</td>\n",
       "    </tr>\n",
       "    <tr>\n",
       "      <th>...</th>\n",
       "      <td>...</td>\n",
       "      <td>...</td>\n",
       "      <td>...</td>\n",
       "    </tr>\n",
       "    <tr>\n",
       "      <th>118</th>\n",
       "      <td>121</td>\n",
       "      <td>nm6364830</td>\n",
       "      <td>15000</td>\n",
       "    </tr>\n",
       "    <tr>\n",
       "      <th>119</th>\n",
       "      <td>23</td>\n",
       "      <td>nm3588591</td>\n",
       "      <td>14000</td>\n",
       "    </tr>\n",
       "    <tr>\n",
       "      <th>120</th>\n",
       "      <td>106</td>\n",
       "      <td>nm5531364</td>\n",
       "      <td>13000</td>\n",
       "    </tr>\n",
       "    <tr>\n",
       "      <th>121</th>\n",
       "      <td>122</td>\n",
       "      <td>nm5045671</td>\n",
       "      <td>10000</td>\n",
       "    </tr>\n",
       "    <tr>\n",
       "      <th>122</th>\n",
       "      <td>37</td>\n",
       "      <td>nm5691930</td>\n",
       "      <td>5000</td>\n",
       "    </tr>\n",
       "  </tbody>\n",
       "</table>\n",
       "<p>123 rows × 3 columns</p>\n",
       "</div>"
      ],
      "text/plain": [
       "     index     nconst     time\n",
       "0       12  nm0881631  8005000\n",
       "1        9  nm4425051  7285000\n",
       "2        0  nm1102278  6646000\n",
       "3        2  nm3929195  6368000\n",
       "4       30  nm0022306  4974000\n",
       "..     ...        ...      ...\n",
       "118    121  nm6364830    15000\n",
       "119     23  nm3588591    14000\n",
       "120    106  nm5531364    13000\n",
       "121    122  nm5045671    10000\n",
       "122     37  nm5691930     5000\n",
       "\n",
       "[123 rows x 3 columns]"
      ]
     },
     "execution_count": 24,
     "metadata": {},
     "output_type": "execute_result"
    }
   ],
   "source": [
    "s3_on_screen_time_ranking = get_on_screen_time_ranking(season_3_df)\n",
    "s3_on_screen_time_ranking.reset_index()"
   ]
  },
  {
   "cell_type": "code",
   "execution_count": 25,
   "id": "420fe1b3",
   "metadata": {},
   "outputs": [
    {
     "name": "stdout",
     "output_type": "stream",
     "text": [
      "The person with the most on-screen time of season 3:\n"
     ]
    },
    {
     "data": {
      "text/plain": [
       "array(['Butcher'], dtype=object)"
      ]
     },
     "execution_count": 25,
     "metadata": {},
     "output_type": "execute_result"
    }
   ],
   "source": [
    "print(\"The person with the most on-screen time of season 3:\")\n",
    "get_character_from_nconst(season_3_df,s3_on_screen_time_ranking.iloc[0]['nconst'])"
   ]
  },
  {
   "cell_type": "markdown",
   "id": "11bf9471",
   "metadata": {},
   "source": [
    "All season"
   ]
  },
  {
   "cell_type": "code",
   "execution_count": 26,
   "id": "8d989366",
   "metadata": {},
   "outputs": [
    {
     "data": {
      "text/html": [
       "<div>\n",
       "<style scoped>\n",
       "    .dataframe tbody tr th:only-of-type {\n",
       "        vertical-align: middle;\n",
       "    }\n",
       "\n",
       "    .dataframe tbody tr th {\n",
       "        vertical-align: top;\n",
       "    }\n",
       "\n",
       "    .dataframe thead th {\n",
       "        text-align: right;\n",
       "    }\n",
       "</style>\n",
       "<table border=\"1\" class=\"dataframe\">\n",
       "  <thead>\n",
       "    <tr style=\"text-align: right;\">\n",
       "      <th></th>\n",
       "      <th>level_0</th>\n",
       "      <th>index</th>\n",
       "      <th>nconst</th>\n",
       "      <th>character</th>\n",
       "      <th>start</th>\n",
       "      <th>end</th>\n",
       "      <th>duration</th>\n",
       "    </tr>\n",
       "  </thead>\n",
       "  <tbody>\n",
       "    <tr>\n",
       "      <th>0</th>\n",
       "      <td>0</td>\n",
       "      <td>0</td>\n",
       "      <td>nm8488639</td>\n",
       "      <td>Benjy</td>\n",
       "      <td>32000</td>\n",
       "      <td>155000</td>\n",
       "      <td>123000</td>\n",
       "    </tr>\n",
       "    <tr>\n",
       "      <th>1</th>\n",
       "      <td>1</td>\n",
       "      <td>1</td>\n",
       "      <td>nm4240263</td>\n",
       "      <td>Jamie</td>\n",
       "      <td>33000</td>\n",
       "      <td>155000</td>\n",
       "      <td>122000</td>\n",
       "    </tr>\n",
       "    <tr>\n",
       "      <th>2</th>\n",
       "      <td>2</td>\n",
       "      <td>2</td>\n",
       "      <td>nm1069800</td>\n",
       "      <td>Queen Maeve</td>\n",
       "      <td>82000</td>\n",
       "      <td>155000</td>\n",
       "      <td>73000</td>\n",
       "    </tr>\n",
       "  </tbody>\n",
       "</table>\n",
       "</div>"
      ],
      "text/plain": [
       "   level_0  index     nconst    character  start     end  duration\n",
       "0        0      0  nm8488639        Benjy  32000  155000    123000\n",
       "1        1      1  nm4240263        Jamie  33000  155000    122000\n",
       "2        2      2  nm1069800  Queen Maeve  82000  155000     73000"
      ]
     },
     "execution_count": 26,
     "metadata": {},
     "output_type": "execute_result"
    }
   ],
   "source": [
    "all_season_df = pd.concat([season_1_df,season_2_df,season_3_df]).reset_index()\n",
    "all_season_df.head(3)"
   ]
  },
  {
   "cell_type": "code",
   "execution_count": 27,
   "id": "e402d9ff",
   "metadata": {},
   "outputs": [
    {
     "data": {
      "text/html": [
       "<div>\n",
       "<style scoped>\n",
       "    .dataframe tbody tr th:only-of-type {\n",
       "        vertical-align: middle;\n",
       "    }\n",
       "\n",
       "    .dataframe tbody tr th {\n",
       "        vertical-align: top;\n",
       "    }\n",
       "\n",
       "    .dataframe thead th {\n",
       "        text-align: right;\n",
       "    }\n",
       "</style>\n",
       "<table border=\"1\" class=\"dataframe\">\n",
       "  <thead>\n",
       "    <tr style=\"text-align: right;\">\n",
       "      <th></th>\n",
       "      <th>nconst</th>\n",
       "    </tr>\n",
       "  </thead>\n",
       "  <tbody>\n",
       "    <tr>\n",
       "      <th>nm4425051</th>\n",
       "      <td>255</td>\n",
       "    </tr>\n",
       "    <tr>\n",
       "      <th>nm0881631</th>\n",
       "      <td>253</td>\n",
       "    </tr>\n",
       "    <tr>\n",
       "      <th>nm3929195</th>\n",
       "      <td>208</td>\n",
       "    </tr>\n",
       "    <tr>\n",
       "      <th>nm1102278</th>\n",
       "      <td>201</td>\n",
       "    </tr>\n",
       "    <tr>\n",
       "      <th>nm0022306</th>\n",
       "      <td>183</td>\n",
       "    </tr>\n",
       "    <tr>\n",
       "      <th>...</th>\n",
       "      <td>...</td>\n",
       "    </tr>\n",
       "    <tr>\n",
       "      <th>nm1561803</th>\n",
       "      <td>1</td>\n",
       "    </tr>\n",
       "    <tr>\n",
       "      <th>nm4484458</th>\n",
       "      <td>1</td>\n",
       "    </tr>\n",
       "    <tr>\n",
       "      <th>nm1938954</th>\n",
       "      <td>1</td>\n",
       "    </tr>\n",
       "    <tr>\n",
       "      <th>nm2436618</th>\n",
       "      <td>1</td>\n",
       "    </tr>\n",
       "    <tr>\n",
       "      <th>nm5045671</th>\n",
       "      <td>1</td>\n",
       "    </tr>\n",
       "  </tbody>\n",
       "</table>\n",
       "<p>298 rows × 1 columns</p>\n",
       "</div>"
      ],
      "text/plain": [
       "           nconst\n",
       "nm4425051     255\n",
       "nm0881631     253\n",
       "nm3929195     208\n",
       "nm1102278     201\n",
       "nm0022306     183\n",
       "...           ...\n",
       "nm1561803       1\n",
       "nm4484458       1\n",
       "nm1938954       1\n",
       "nm2436618       1\n",
       "nm5045671       1\n",
       "\n",
       "[298 rows x 1 columns]"
      ]
     },
     "execution_count": 27,
     "metadata": {},
     "output_type": "execute_result"
    }
   ],
   "source": [
    "all_season_df['nconst'].value_counts().to_frame() # All season ranking by appearance times"
   ]
  },
  {
   "cell_type": "code",
   "execution_count": 28,
   "id": "7c871c9b",
   "metadata": {},
   "outputs": [
    {
     "name": "stdout",
     "output_type": "stream",
     "text": [
      "The person with the most number of appearance occations of all season:\n"
     ]
    },
    {
     "data": {
      "text/plain": [
       "array(['Hughie Campbell', 'Hughie'], dtype=object)"
      ]
     },
     "execution_count": 28,
     "metadata": {},
     "output_type": "execute_result"
    }
   ],
   "source": [
    "print(\"The person with the most number of appearance occations of all season:\")\n",
    "get_character_from_nconst(all_season_df,all_season_df['nconst'].value_counts().to_frame().index[0])"
   ]
  },
  {
   "cell_type": "code",
   "execution_count": 29,
   "id": "7ae55506",
   "metadata": {},
   "outputs": [
    {
     "data": {
      "text/html": [
       "<div>\n",
       "<style scoped>\n",
       "    .dataframe tbody tr th:only-of-type {\n",
       "        vertical-align: middle;\n",
       "    }\n",
       "\n",
       "    .dataframe tbody tr th {\n",
       "        vertical-align: top;\n",
       "    }\n",
       "\n",
       "    .dataframe thead th {\n",
       "        text-align: right;\n",
       "    }\n",
       "</style>\n",
       "<table border=\"1\" class=\"dataframe\">\n",
       "  <thead>\n",
       "    <tr style=\"text-align: right;\">\n",
       "      <th></th>\n",
       "      <th>index</th>\n",
       "      <th>nconst</th>\n",
       "      <th>time</th>\n",
       "    </tr>\n",
       "  </thead>\n",
       "  <tbody>\n",
       "    <tr>\n",
       "      <th>0</th>\n",
       "      <td>6</td>\n",
       "      <td>nm4425051</td>\n",
       "      <td>27944000</td>\n",
       "    </tr>\n",
       "    <tr>\n",
       "      <th>1</th>\n",
       "      <td>21</td>\n",
       "      <td>nm0881631</td>\n",
       "      <td>26843000</td>\n",
       "    </tr>\n",
       "    <tr>\n",
       "      <th>2</th>\n",
       "      <td>10</td>\n",
       "      <td>nm3929195</td>\n",
       "      <td>20500000</td>\n",
       "    </tr>\n",
       "    <tr>\n",
       "      <th>3</th>\n",
       "      <td>4</td>\n",
       "      <td>nm1102278</td>\n",
       "      <td>20432000</td>\n",
       "    </tr>\n",
       "    <tr>\n",
       "      <th>4</th>\n",
       "      <td>51</td>\n",
       "      <td>nm0022306</td>\n",
       "      <td>19174000</td>\n",
       "    </tr>\n",
       "    <tr>\n",
       "      <th>...</th>\n",
       "      <td>...</td>\n",
       "      <td>...</td>\n",
       "      <td>...</td>\n",
       "    </tr>\n",
       "    <tr>\n",
       "      <th>293</th>\n",
       "      <td>67</td>\n",
       "      <td>nm0035334</td>\n",
       "      <td>10000</td>\n",
       "    </tr>\n",
       "    <tr>\n",
       "      <th>294</th>\n",
       "      <td>176</td>\n",
       "      <td>nm0640669</td>\n",
       "      <td>10000</td>\n",
       "    </tr>\n",
       "    <tr>\n",
       "      <th>295</th>\n",
       "      <td>204</td>\n",
       "      <td>nm2555508</td>\n",
       "      <td>10000</td>\n",
       "    </tr>\n",
       "    <tr>\n",
       "      <th>296</th>\n",
       "      <td>297</td>\n",
       "      <td>nm5045671</td>\n",
       "      <td>10000</td>\n",
       "    </tr>\n",
       "    <tr>\n",
       "      <th>297</th>\n",
       "      <td>224</td>\n",
       "      <td>nm5691930</td>\n",
       "      <td>5000</td>\n",
       "    </tr>\n",
       "  </tbody>\n",
       "</table>\n",
       "<p>298 rows × 3 columns</p>\n",
       "</div>"
      ],
      "text/plain": [
       "     index     nconst      time\n",
       "0        6  nm4425051  27944000\n",
       "1       21  nm0881631  26843000\n",
       "2       10  nm3929195  20500000\n",
       "3        4  nm1102278  20432000\n",
       "4       51  nm0022306  19174000\n",
       "..     ...        ...       ...\n",
       "293     67  nm0035334     10000\n",
       "294    176  nm0640669     10000\n",
       "295    204  nm2555508     10000\n",
       "296    297  nm5045671     10000\n",
       "297    224  nm5691930      5000\n",
       "\n",
       "[298 rows x 3 columns]"
      ]
     },
     "execution_count": 29,
     "metadata": {},
     "output_type": "execute_result"
    }
   ],
   "source": [
    "allseason_on_screen_time_ranking = get_on_screen_time_ranking(all_season_df)\n",
    "allseason_on_screen_time_ranking.reset_index()"
   ]
  },
  {
   "cell_type": "code",
   "execution_count": 30,
   "id": "56ed1c41",
   "metadata": {},
   "outputs": [
    {
     "name": "stdout",
     "output_type": "stream",
     "text": [
      "The person with the most on-screen time of season 3:\n"
     ]
    },
    {
     "data": {
      "text/plain": [
       "array(['Hughie Campbell', 'Hughie'], dtype=object)"
      ]
     },
     "execution_count": 30,
     "metadata": {},
     "output_type": "execute_result"
    }
   ],
   "source": [
    "print(\"The person with the most on-screen time of season 3:\")\n",
    "get_character_from_nconst(all_season_df,allseason_on_screen_time_ranking.iloc[0]['nconst'])"
   ]
  },
  {
   "cell_type": "code",
   "execution_count": 31,
   "id": "88607287",
   "metadata": {},
   "outputs": [
    {
     "name": "stdout",
     "output_type": "stream",
     "text": [
      "       nconst      time\n",
      "6   nm4425051  7.762222\n",
      "21  nm0881631  7.456389\n",
      "10  nm3929195  5.694444\n",
      "4   nm1102278  5.675556\n",
      "51  nm0022306  5.326111\n"
     ]
    },
    {
     "data": {
      "text/plain": [
       "<AxesSubplot:title={'center':'s03 time ranking (time in hours)'}, xlabel='nconst'>"
      ]
     },
     "execution_count": 31,
     "metadata": {},
     "output_type": "execute_result"
    },
    {
     "data": {
      "text/plain": [
       "<Figure size 432x288 with 0 Axes>"
      ]
     },
     "metadata": {},
     "output_type": "display_data"
    },
    {
     "data": {
      "image/png": "[encoded data removed]",
      "text/plain": [
       "<Figure size 432x288 with 1 Axes>"
      ]
     },
     "metadata": {
      "needs_background": "light"
     },
     "output_type": "display_data"
    }
   ],
   "source": [
    "allseason_on_screen_time_ranking['time']=allseason_on_screen_time_ranking['time']/1000/60/60 # From miliseconds to hours\n",
    "a=allseason_on_screen_time_ranking.sort_values(by=['time'],ascending=False).head(5)\n",
    "print(a)\n",
    "fig = plt.figure()\n",
    "a.plot.bar(x='nconst', y='time', rot=0,title='s03 time ranking (time in hours)')"
   ]
  },
  {
   "cell_type": "markdown",
   "id": "50bab24f",
   "metadata": {},
   "source": [
    "Examine the change of top 10 people"
   ]
  },
  {
   "cell_type": "code",
   "execution_count": 32,
   "id": "dfe234b8",
   "metadata": {},
   "outputs": [],
   "source": [
    "def get_top10_by_appearance_num(df,all_season_df):\n",
    "    s1_a_num = df['nconst'].value_counts().to_frame()\n",
    "    s1_a_num['appearance'] = s1_a_num['nconst']\n",
    "    s1_a_num['nconst'] = list(s1_a_num.index)\n",
    "    s1_a_num.reset_index()\n",
    "    s1_a_num['character'] = s1_a_num['nconst'].apply(lambda x: get_character_from_nconst(all_season_df,x)[0])\n",
    "    s1_num_lis=list(s1_a_num.head(10)['character'])\n",
    "    return s1_num_lis"
   ]
  },
  {
   "cell_type": "code",
   "execution_count": 33,
   "id": "60ffa668",
   "metadata": {},
   "outputs": [],
   "source": [
    "def compare_two_top10_lists(former_top10,later_top_10):\n",
    "    for i in range(10):\n",
    "        if later_top_10[i] in former_top10:\n",
    "            if later_top_10[i] == former_top10[i]:\n",
    "                print(\"Number\",i+1,\"is\",later_top_10[i],\". Stays the same\")\n",
    "            else:\n",
    "                print(\"Number\",i+1,\"is\",later_top_10[i],\". He/she is number\",former_top10.index(later_top_10[i])+1,\"in former season\")\n",
    "                if former_top10.index(later_top_10[i]) < i:\n",
    "                    print(\"Decreased\")\n",
    "                else:\n",
    "                    print(\"Increased\")\n",
    "        else:\n",
    "            print(\"Number\",i+1,\"is\",later_top_10[i],\". New comer\")\n",
    "    return 0"
   ]
  },
  {
   "cell_type": "code",
   "execution_count": 34,
   "id": "708b5325",
   "metadata": {},
   "outputs": [
    {
     "name": "stdout",
     "output_type": "stream",
     "text": [
      "Season 1 top 10 by appearance number in nconst\n"
     ]
    },
    {
     "data": {
      "text/plain": [
       "['Hughie Campbell',\n",
       " 'Billy Butcher',\n",
       " 'Frenchie',\n",
       " 'Homelander',\n",
       " 'Starlight',\n",
       " 'Mother’s Milk',\n",
       " 'Madelyn Stillwell',\n",
       " 'A-Train',\n",
       " 'The Deep',\n",
       " 'Queen Maeve']"
      ]
     },
     "execution_count": 34,
     "metadata": {},
     "output_type": "execute_result"
    }
   ],
   "source": [
    "print(\"Season 1 top 10 by appearance number in nconst\")\n",
    "s1_a_num = get_top10_by_appearance_num(season_1_df,all_season_df)\n",
    "s1_a_num"
   ]
  },
  {
   "cell_type": "code",
   "execution_count": 35,
   "id": "ecd52def",
   "metadata": {},
   "outputs": [
    {
     "name": "stdout",
     "output_type": "stream",
     "text": [
      "Season 2 top 10 by appearance number in nconst\n"
     ]
    },
    {
     "data": {
      "text/plain": [
       "['Hughie Campbell',\n",
       " 'Billy Butcher',\n",
       " 'Starlight',\n",
       " 'Homelander',\n",
       " 'Mother’s Milk',\n",
       " 'Frenchie',\n",
       " 'The Female',\n",
       " 'Stormfront',\n",
       " 'Queen Maeve',\n",
       " 'Ashley Barrett']"
      ]
     },
     "execution_count": 35,
     "metadata": {},
     "output_type": "execute_result"
    }
   ],
   "source": [
    "print(\"Season 2 top 10 by appearance number in nconst\")\n",
    "s2_a_num = get_top10_by_appearance_num(season_2_df,all_season_df)\n",
    "s2_a_num"
   ]
  },
  {
   "cell_type": "code",
   "execution_count": 36,
   "id": "9b99e728",
   "metadata": {},
   "outputs": [
    {
     "name": "stdout",
     "output_type": "stream",
     "text": [
      "Season 3 top 10 by appearance number in nconst\n"
     ]
    },
    {
     "data": {
      "text/plain": [
       "['Billy Butcher',\n",
       " 'Hughie Campbell',\n",
       " 'Starlight',\n",
       " 'Homelander',\n",
       " 'Mother’s Milk',\n",
       " 'Soldier Boy',\n",
       " 'The Female',\n",
       " 'Frenchie',\n",
       " 'Ashley Barrett',\n",
       " 'A-Train']"
      ]
     },
     "execution_count": 36,
     "metadata": {},
     "output_type": "execute_result"
    }
   ],
   "source": [
    "print(\"Season 3 top 10 by appearance number in nconst\")\n",
    "s3_a_num = get_top10_by_appearance_num(season_3_df,all_season_df)\n",
    "s3_a_num"
   ]
  },
  {
   "cell_type": "code",
   "execution_count": 39,
   "id": "eb30749a",
   "metadata": {},
   "outputs": [
    {
     "name": "stdout",
     "output_type": "stream",
     "text": [
      "On season 2\n",
      "Number 1 is Hughie Campbell . Stays the same\n",
      "Number 2 is Billy Butcher . Stays the same\n",
      "Number 3 is Starlight . He/she is number 5 in former season\n",
      "Increased\n",
      "Number 4 is Homelander . Stays the same\n",
      "Number 5 is Mother’s Milk . He/she is number 6 in former season\n",
      "Increased\n",
      "Number 6 is Frenchie . He/she is number 3 in former season\n",
      "Decreased\n",
      "Number 7 is The Female . New comer\n",
      "Number 8 is Stormfront . New comer\n",
      "Number 9 is Queen Maeve . He/she is number 10 in former season\n",
      "Increased\n",
      "Number 10 is Ashley Barrett . New comer\n"
     ]
    },
    {
     "data": {
      "text/plain": [
       "0"
      ]
     },
     "execution_count": 39,
     "metadata": {},
     "output_type": "execute_result"
    }
   ],
   "source": [
    "print(\"On season 2\")\n",
    "compare_two_top10_lists(former_top10=s1_a_num,later_top_10=s2_a_num)"
   ]
  },
  {
   "cell_type": "code",
   "execution_count": 38,
   "id": "d10bcbc9",
   "metadata": {},
   "outputs": [
    {
     "name": "stdout",
     "output_type": "stream",
     "text": [
      "On season 3\n",
      "Number 1 is Billy Butcher . He/she is number 2 in former season\n",
      "Increased\n",
      "Number 2 is Hughie Campbell . He/she is number 1 in former season\n",
      "Decreased\n",
      "Number 3 is Starlight . Stays the same\n",
      "Number 4 is Homelander . Stays the same\n",
      "Number 5 is Mother’s Milk . Stays the same\n",
      "Number 6 is Soldier Boy . New comer\n",
      "Number 7 is The Female . Stays the same\n",
      "Number 8 is Frenchie . He/she is number 6 in former season\n",
      "Decreased\n",
      "Number 9 is Ashley Barrett . He/she is number 10 in former season\n",
      "Increased\n",
      "Number 10 is A-Train . New comer\n"
     ]
    },
    {
     "ename": "TypeError",
     "evalue": "compare_two_top10_lists() missing 1 required positional argument: 'later_top_10'",
     "output_type": "error",
     "traceback": [
      "\u001b[1;31m---------------------------------------------------------------------------\u001b[0m",
      "\u001b[1;31mTypeError\u001b[0m                                 Traceback (most recent call last)",
      "\u001b[1;32me:\\Violet\\2022Fall\\bootcamp\\datasets\\theboys.ipynb Cell 41\u001b[0m in \u001b[0;36m<cell line: 2>\u001b[1;34m()\u001b[0m\n\u001b[0;32m      <a href='vscode-notebook-cell:/e%3A/Violet/2022Fall/bootcamp/datasets/theboys.ipynb#X56sZmlsZQ%3D%3D?line=0'>1</a>\u001b[0m \u001b[39mprint\u001b[39m(\u001b[39m\"\u001b[39m\u001b[39mOn season 3\u001b[39m\u001b[39m\"\u001b[39m)\n\u001b[1;32m----> <a href='vscode-notebook-cell:/e%3A/Violet/2022Fall/bootcamp/datasets/theboys.ipynb#X56sZmlsZQ%3D%3D?line=1'>2</a>\u001b[0m compare_two_top10_lists(compare_two_top10_lists(former_top10\u001b[39m=\u001b[39;49ms2_a_num,later_top_10\u001b[39m=\u001b[39;49ms3_a_num))\n",
      "\u001b[1;31mTypeError\u001b[0m: compare_two_top10_lists() missing 1 required positional argument: 'later_top_10'"
     ]
    }
   ],
   "source": [
    "print(\"On season 3\")\n",
    "compare_two_top10_lists(compare_two_top10_lists(former_top10=s2_a_num,later_top_10=s3_a_num))"
   ]
  },
  {
   "cell_type": "code",
   "execution_count": 44,
   "id": "a61e7676",
   "metadata": {},
   "outputs": [
    {
     "name": "stdout",
     "output_type": "stream",
     "text": [
      "In the top ten list\n",
      "Comparing season 1 with season 2\n",
      "Madelyn Stillwell is cancelled in later season.\n",
      "A-Train is cancelled in later season.\n",
      "The Deep is cancelled in later season.\n"
     ]
    }
   ],
   "source": [
    "print(\"In the top ten list\")\n",
    "print(\"Comparing season 1 with season 2\")\n",
    "\n",
    "find_out_who_died(s1_a_num,s2_a_num)"
   ]
  },
  {
   "cell_type": "code",
   "execution_count": 45,
   "id": "4735e59e",
   "metadata": {},
   "outputs": [
    {
     "name": "stdout",
     "output_type": "stream",
     "text": [
      "In the top ten list\n",
      "Comparing season 2 with season 3\n",
      "Stormfront is cancelled in later season.\n",
      "Queen Maeve is cancelled in later season.\n"
     ]
    }
   ],
   "source": [
    "print(\"In the top ten list\")\n",
    "print(\"Comparing season 2 with season 3\")\n",
    "\n",
    "find_out_who_died(s2_a_num,s3_a_num)"
   ]
  },
  {
   "cell_type": "markdown",
   "id": "8efbc9da",
   "metadata": {},
   "source": [
    "Note the above comparision across top 10 list in seasons,\n",
    "the top ten is calculated by ranking appearance times instead of duration.\n",
    "In the following, we repeat exactly the same comparisions, but with ranking by appearance durations."
   ]
  },
  {
   "cell_type": "code",
   "execution_count": 60,
   "id": "702dbb7c",
   "metadata": {},
   "outputs": [],
   "source": [
    "s1_duration_top10 = list(s1_on_screen_time_ranking.reset_index().iloc[:10]['nconst'].apply(lambda x: get_character_from_nconst(season_1_df,x)[0]))\n",
    "s2_duration_top10 = list(s2_on_screen_time_ranking.reset_index().iloc[:10]['nconst'].apply(lambda x: get_character_from_nconst(season_2_df,x)[0]))\n",
    "s3_duration_top10 = list(s3_on_screen_time_ranking.reset_index().iloc[:10]['nconst'].apply(lambda x: get_character_from_nconst(season_3_df,x)[0]))"
   ]
  },
  {
   "cell_type": "code",
   "execution_count": 61,
   "id": "eb30749a",
   "metadata": {},
   "outputs": [
    {
     "name": "stdout",
     "output_type": "stream",
     "text": [
      "On season 2\n",
      "Number 1 is Hughie Campbell . Stays the same\n",
      "Number 2 is Billy Butcher . Stays the same\n",
      "Number 3 is Mother's Milk . New comer\n",
      "Number 4 is Homelander . He/she is number 6 in former season\n",
      "Increased\n",
      "Number 5 is Starlight . He/she is number 4 in former season\n",
      "Decreased\n",
      "Number 6 is Frenchie . He/she is number 3 in former season\n",
      "Decreased\n",
      "Number 7 is Kimiko Miyashiro . New comer\n",
      "Number 8 is Stormfront . New comer\n",
      "Number 9 is Queen Maeve . Stays the same\n",
      "Number 10 is Ryan . New comer\n"
     ]
    },
    {
     "data": {
      "text/plain": [
       "0"
      ]
     },
     "execution_count": 61,
     "metadata": {},
     "output_type": "execute_result"
    }
   ],
   "source": [
    "print(\"On season 2\")\n",
    "compare_two_top10_lists(former_top10=s1_duration_top10,later_top_10=s2_duration_top10)"
   ]
  },
  {
   "cell_type": "code",
   "execution_count": 62,
   "id": "d10bcbc9",
   "metadata": {},
   "outputs": [
    {
     "name": "stdout",
     "output_type": "stream",
     "text": [
      "On season 3\n",
      "Number 1 is Butcher . New comer\n",
      "Number 2 is Hughie . New comer\n",
      "Number 3 is Homelander . He/she is number 4 in former season\n",
      "Increased\n",
      "Number 4 is Starlight . He/she is number 5 in former season\n",
      "Increased\n",
      "Number 5 is Mother's Milk . He/she is number 3 in former season\n",
      "Decreased\n",
      "Number 6 is Frenchie . Stays the same\n",
      "Number 7 is Kimiko . New comer\n",
      "Number 8 is Soldier Boy . New comer\n",
      "Number 9 is Ashley Barrett . New comer\n",
      "Number 10 is A-Train . New comer\n"
     ]
    },
    {
     "ename": "TypeError",
     "evalue": "compare_two_top10_lists() missing 1 required positional argument: 'later_top_10'",
     "output_type": "error",
     "traceback": [
      "\u001b[1;31m---------------------------------------------------------------------------\u001b[0m",
      "\u001b[1;31mTypeError\u001b[0m                                 Traceback (most recent call last)",
      "\u001b[1;32me:\\Violet\\2022Fall\\bootcamp\\datasets\\theboys.ipynb Cell 47\u001b[0m in \u001b[0;36m<cell line: 2>\u001b[1;34m()\u001b[0m\n\u001b[0;32m      <a href='vscode-notebook-cell:/e%3A/Violet/2022Fall/bootcamp/datasets/theboys.ipynb#X66sZmlsZQ%3D%3D?line=0'>1</a>\u001b[0m \u001b[39mprint\u001b[39m(\u001b[39m\"\u001b[39m\u001b[39mOn season 3\u001b[39m\u001b[39m\"\u001b[39m)\n\u001b[1;32m----> <a href='vscode-notebook-cell:/e%3A/Violet/2022Fall/bootcamp/datasets/theboys.ipynb#X66sZmlsZQ%3D%3D?line=1'>2</a>\u001b[0m compare_two_top10_lists(compare_two_top10_lists(former_top10\u001b[39m=\u001b[39;49ms2_duration_top10,later_top_10\u001b[39m=\u001b[39;49ms3_duration_top10))\n",
      "\u001b[1;31mTypeError\u001b[0m: compare_two_top10_lists() missing 1 required positional argument: 'later_top_10'"
     ]
    }
   ],
   "source": [
    "print(\"On season 3\")\n",
    "compare_two_top10_lists(compare_two_top10_lists(former_top10=s2_duration_top10,later_top_10=s3_duration_top10))"
   ]
  },
  {
   "cell_type": "code",
   "execution_count": 63,
   "id": "a61e7676",
   "metadata": {},
   "outputs": [
    {
     "name": "stdout",
     "output_type": "stream",
     "text": [
      "In the top ten list\n",
      "Comparing season 1 with season 2\n",
      "Mother’s Milk is cancelled in later season.\n",
      "Madelyn Stillwell is cancelled in later season.\n",
      "A-Train is cancelled in later season.\n",
      "The Female is cancelled in later season.\n"
     ]
    }
   ],
   "source": [
    "print(\"In the top ten list\")\n",
    "print(\"Comparing season 1 with season 2\")\n",
    "\n",
    "find_out_who_died(s1_duration_top10,s2_duration_top10)"
   ]
  },
  {
   "cell_type": "code",
   "execution_count": 64,
   "id": "4735e59e",
   "metadata": {},
   "outputs": [
    {
     "name": "stdout",
     "output_type": "stream",
     "text": [
      "In the top ten list\n",
      "Comparing season 2 with season 3\n",
      "Hughie Campbell is cancelled in later season.\n",
      "Billy Butcher is cancelled in later season.\n",
      "Kimiko Miyashiro is cancelled in later season.\n",
      "Stormfront is cancelled in later season.\n",
      "Queen Maeve is cancelled in later season.\n",
      "Ryan is cancelled in later season.\n"
     ]
    }
   ],
   "source": [
    "print(\"In the top ten list\")\n",
    "print(\"Comparing season 2 with season 3\")\n",
    "\n",
    "find_out_who_died(s2_duration_top10,s3_duration_top10)"
   ]
  }
 ],
 "metadata": {
  "kernelspec": {
   "display_name": "Python 3.8.12 ('gpu_py38')",
   "language": "python",
   "name": "python3"
  },
  "language_info": {
   "codemirror_mode": {
    "name": "ipython",
    "version": 3
   },
   "file_extension": ".py",
   "mimetype": "text/x-python",
   "name": "python",
   "nbconvert_exporter": "python",
   "pygments_lexer": "ipython3",
   "version": "3.8.12"
  },
  "vscode": {
   "interpreter": {
    "hash": "bcd0cd3e70dc48f176a30e190f19af26bddecfc8097949deab1c0cae323d39d3"
   }
  }
 },
 "nbformat": 4,
 "nbformat_minor": 5
}
