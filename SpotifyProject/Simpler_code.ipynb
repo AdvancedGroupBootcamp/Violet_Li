{
  "nbformat": 4,
  "nbformat_minor": 0,
  "metadata": {
    "colab": {
      "provenance": []
    },
    "kernelspec": {
      "name": "python3",
      "display_name": "Python 3"
    },
    "language_info": {
      "name": "python"
    }
  },
  "cells": [
    {
      "cell_type": "code",
      "execution_count": 11,
      "metadata": {
        "colab": {
          "base_uri": "https://localhost:8080/"
        },
        "id": "REMy-hVo9JTF",
        "outputId": "473712a2-f6ae-46d3-c364-ad8aab2b40df"
      },
      "outputs": [
        {
          "output_type": "stream",
          "name": "stdout",
          "text": [
            "Drive already mounted at /content/drive; to attempt to forcibly remount, call drive.mount(\"/content/drive\", force_remount=True).\n"
          ]
        },
        {
          "output_type": "execute_result",
          "data": {
            "text/plain": [
              "507"
            ]
          },
          "metadata": {},
          "execution_count": 11
        }
      ],
      "source": [
        "from google.colab import drive\n",
        "drive.mount('/content/drive')\n",
        "\n",
        "import pandas as pd\n",
        "from zipfile import ZipFile\n",
        "from collections import Counter\n",
        "zip_file_path = '/content/drive/MyDrive/spotify_million_playlist_dataset.zip'\n",
        "  \n",
        "zip_file = ZipFile(zip_file_path)\n",
        "zip_files = {text_file    for text_file in zip_file.namelist()       if text_file.endswith('.json')}\n",
        "\n",
        "zip_files\n",
        "\n",
        "import json as js\n",
        "from collections import defaultdict\n",
        "  \n",
        "new_dict = defaultdict(set)\n",
        "song_dict = defaultdict(set)\n",
        "duration_dict = defaultdict(set)\n",
        "\n",
        "artists = {\"zaz\" : {\"featured\" : 0, \"duration\" : 0, \"playlists\" : 0}, \"oumou\": {\"featured\" : 0, \"duration\" : 0, \"playlists\" : 0}, \"kendrick lamar\" : {\"featured\" : 0, \"duration\" : 0, \"playlists\" : 0}, \"p!nk\":  {\"featured\" : 0, \"duration\" : 0, \"playlists\" : 0} ,\"muse\": {\"featured\" : 0, \"duration\" : 0, \"playlists\" : 0},\"the killers\": {\"featured\" : 0, \"duration\" : 0, \"playlists\" : 0},\"eminem\": {\"featured\" : 0, \"duration\" : 0, \"playlists\" : 0}, \"taylor swift\": {\"featured\" : 0, \"duration\" : 0, \"playlists\" : 0}, \"harry styles\": {\"featured\" : 0, \"duration\" : 0, \"playlists\" : 0},\"lara fabian\": {\"featured\" : 0, \"duration\" : 0, \"playlists\" : 0},\"andrea bocelli\": {\"featured\" : 0, \"duration\" : 0, \"playlists\" : 0},\"laurent garnier\": {\"featured\" : 0, \"duration\" : 0, \"playlists\" : 0}}\n",
        "\n",
        "playlists = {\"zaz\" : {}, \"oumou\": {}, \"kendrick lamar\" : {}, \"pink\":  {} ,\"Muse\": {},\"the killers\": {},\"eminem\": {}, \"taylor swift\": {}, \"harry styles\": {},\"lara fabian\": {},\"andrea bocelli\": {},\"laurent garnier\": {}}\n",
        "\n",
        "for single_file in zip_files:\n",
        "    with zip_file.open(single_file) as myfile:\n",
        "      data = myfile.read()\n",
        "      file = js.loads(data)\n",
        "    for playlist in file['playlists']:\n",
        "      for track in playlist['tracks']:\n",
        "        # print(track)\n",
        "        if(track['artist_name'].lower() in artists.keys()):\n",
        "          artists[track['artist_name'].lower()]['featured'] += 1\n",
        "          artists[track['artist_name'].lower()]['duration'] += track['duration_ms']/1000/60 #Duration in mins\n",
        "          new_dict[track['artist_name'].lower()].add(playlist['pid'])\n",
        "          # print(playlist['pid'])\n",
        "          song_dict[track['artist_name'].lower()].add(track['track_uri'])\n",
        "          #playlists[track['artist_name'].lower()].add(playlist['pid'])\n",
        "          duration_dict[track['track_uri'].lower()].add(track['duration_ms'])         \n",
        "artists\n",
        "\n",
        "len(new_dict['zaz'])\n",
        "\n"
      ]
    },
    {
      "cell_type": "code",
      "source": [
        "num_tracks=[]\n",
        "num_playlists=[]\n",
        "for artist_i in artists.keys():\n",
        "  num_tracks.append(len(song_dict[artist_i]))\n",
        "  num_playlists.append(len(new_dict[artist_i]))"
      ],
      "metadata": {
        "id": "3QM_L5yTJs7X"
      },
      "execution_count": 24,
      "outputs": []
    },
    {
      "cell_type": "code",
      "source": [
        "import pandas as pd\n",
        "output_df=pd.DataFrame(artists).T\n",
        "output_df['playlists']=num_playlists\n",
        "output_df['featured']=num_tracks\n",
        "output_df\n",
        "\n",
        "#Duration in minutes"
      ],
      "metadata": {
        "colab": {
          "base_uri": "https://localhost:8080/",
          "height": 426
        },
        "id": "nu5eICGnB21p",
        "outputId": "c58d3b3e-6c00-4801-fac5-55007944f4ae"
      },
      "execution_count": 25,
      "outputs": [
        {
          "output_type": "execute_result",
          "data": {
            "text/plain": [
              "                 featured      duration  playlists\n",
              "zaz                    41  3.507219e+03        507\n",
              "oumou                   0  0.000000e+00          0\n",
              "kendrick lamar        128  1.480128e+06     120901\n",
              "p!nk                  144  2.281226e+05      35536\n",
              "muse                  180  1.615930e+05      18081\n",
              "the killers           106  3.220175e+05      44540\n",
              "eminem                227  1.398647e+06      76657\n",
              "taylor swift          203  4.094385e+05      40696\n",
              "harry styles           12  1.434592e+05      17910\n",
              "lara fabian            78  1.400163e+03        200\n",
              "andrea bocelli        212  2.471714e+04       2817\n",
              "laurent garnier        24  7.280552e+02         89"
            ],
            "text/html": [
              "\n",
              "  <div id=\"df-648671bb-d401-4fbd-b7b7-2bc8a5286e77\">\n",
              "    <div class=\"colab-df-container\">\n",
              "      <div>\n",
              "<style scoped>\n",
              "    .dataframe tbody tr th:only-of-type {\n",
              "        vertical-align: middle;\n",
              "    }\n",
              "\n",
              "    .dataframe tbody tr th {\n",
              "        vertical-align: top;\n",
              "    }\n",
              "\n",
              "    .dataframe thead th {\n",
              "        text-align: right;\n",
              "    }\n",
              "</style>\n",
              "<table border=\"1\" class=\"dataframe\">\n",
              "  <thead>\n",
              "    <tr style=\"text-align: right;\">\n",
              "      <th></th>\n",
              "      <th>featured</th>\n",
              "      <th>duration</th>\n",
              "      <th>playlists</th>\n",
              "    </tr>\n",
              "  </thead>\n",
              "  <tbody>\n",
              "    <tr>\n",
              "      <th>zaz</th>\n",
              "      <td>41</td>\n",
              "      <td>3.507219e+03</td>\n",
              "      <td>507</td>\n",
              "    </tr>\n",
              "    <tr>\n",
              "      <th>oumou</th>\n",
              "      <td>0</td>\n",
              "      <td>0.000000e+00</td>\n",
              "      <td>0</td>\n",
              "    </tr>\n",
              "    <tr>\n",
              "      <th>kendrick lamar</th>\n",
              "      <td>128</td>\n",
              "      <td>1.480128e+06</td>\n",
              "      <td>120901</td>\n",
              "    </tr>\n",
              "    <tr>\n",
              "      <th>p!nk</th>\n",
              "      <td>144</td>\n",
              "      <td>2.281226e+05</td>\n",
              "      <td>35536</td>\n",
              "    </tr>\n",
              "    <tr>\n",
              "      <th>muse</th>\n",
              "      <td>180</td>\n",
              "      <td>1.615930e+05</td>\n",
              "      <td>18081</td>\n",
              "    </tr>\n",
              "    <tr>\n",
              "      <th>the killers</th>\n",
              "      <td>106</td>\n",
              "      <td>3.220175e+05</td>\n",
              "      <td>44540</td>\n",
              "    </tr>\n",
              "    <tr>\n",
              "      <th>eminem</th>\n",
              "      <td>227</td>\n",
              "      <td>1.398647e+06</td>\n",
              "      <td>76657</td>\n",
              "    </tr>\n",
              "    <tr>\n",
              "      <th>taylor swift</th>\n",
              "      <td>203</td>\n",
              "      <td>4.094385e+05</td>\n",
              "      <td>40696</td>\n",
              "    </tr>\n",
              "    <tr>\n",
              "      <th>harry styles</th>\n",
              "      <td>12</td>\n",
              "      <td>1.434592e+05</td>\n",
              "      <td>17910</td>\n",
              "    </tr>\n",
              "    <tr>\n",
              "      <th>lara fabian</th>\n",
              "      <td>78</td>\n",
              "      <td>1.400163e+03</td>\n",
              "      <td>200</td>\n",
              "    </tr>\n",
              "    <tr>\n",
              "      <th>andrea bocelli</th>\n",
              "      <td>212</td>\n",
              "      <td>2.471714e+04</td>\n",
              "      <td>2817</td>\n",
              "    </tr>\n",
              "    <tr>\n",
              "      <th>laurent garnier</th>\n",
              "      <td>24</td>\n",
              "      <td>7.280552e+02</td>\n",
              "      <td>89</td>\n",
              "    </tr>\n",
              "  </tbody>\n",
              "</table>\n",
              "</div>\n",
              "      <button class=\"colab-df-convert\" onclick=\"convertToInteractive('df-648671bb-d401-4fbd-b7b7-2bc8a5286e77')\"\n",
              "              title=\"Convert this dataframe to an interactive table.\"\n",
              "              style=\"display:none;\">\n",
              "        \n",
              "  <svg xmlns=\"http://www.w3.org/2000/svg\" height=\"24px\"viewBox=\"0 0 24 24\"\n",
              "       width=\"24px\">\n",
              "    <path d=\"M0 0h24v24H0V0z\" fill=\"none\"/>\n",
              "    <path d=\"M18.56 5.44l.94 2.06.94-2.06 2.06-.94-2.06-.94-.94-2.06-.94 2.06-2.06.94zm-11 1L8.5 8.5l.94-2.06 2.06-.94-2.06-.94L8.5 2.5l-.94 2.06-2.06.94zm10 10l.94 2.06.94-2.06 2.06-.94-2.06-.94-.94-2.06-.94 2.06-2.06.94z\"/><path d=\"M17.41 7.96l-1.37-1.37c-.4-.4-.92-.59-1.43-.59-.52 0-1.04.2-1.43.59L10.3 9.45l-7.72 7.72c-.78.78-.78 2.05 0 2.83L4 21.41c.39.39.9.59 1.41.59.51 0 1.02-.2 1.41-.59l7.78-7.78 2.81-2.81c.8-.78.8-2.07 0-2.86zM5.41 20L4 18.59l7.72-7.72 1.47 1.35L5.41 20z\"/>\n",
              "  </svg>\n",
              "      </button>\n",
              "      \n",
              "  <style>\n",
              "    .colab-df-container {\n",
              "      display:flex;\n",
              "      flex-wrap:wrap;\n",
              "      gap: 12px;\n",
              "    }\n",
              "\n",
              "    .colab-df-convert {\n",
              "      background-color: #E8F0FE;\n",
              "      border: none;\n",
              "      border-radius: 50%;\n",
              "      cursor: pointer;\n",
              "      display: none;\n",
              "      fill: #1967D2;\n",
              "      height: 32px;\n",
              "      padding: 0 0 0 0;\n",
              "      width: 32px;\n",
              "    }\n",
              "\n",
              "    .colab-df-convert:hover {\n",
              "      background-color: #E2EBFA;\n",
              "      box-shadow: 0px 1px 2px rgba(60, 64, 67, 0.3), 0px 1px 3px 1px rgba(60, 64, 67, 0.15);\n",
              "      fill: #174EA6;\n",
              "    }\n",
              "\n",
              "    [theme=dark] .colab-df-convert {\n",
              "      background-color: #3B4455;\n",
              "      fill: #D2E3FC;\n",
              "    }\n",
              "\n",
              "    [theme=dark] .colab-df-convert:hover {\n",
              "      background-color: #434B5C;\n",
              "      box-shadow: 0px 1px 3px 1px rgba(0, 0, 0, 0.15);\n",
              "      filter: drop-shadow(0px 1px 2px rgba(0, 0, 0, 0.3));\n",
              "      fill: #FFFFFF;\n",
              "    }\n",
              "  </style>\n",
              "\n",
              "      <script>\n",
              "        const buttonEl =\n",
              "          document.querySelector('#df-648671bb-d401-4fbd-b7b7-2bc8a5286e77 button.colab-df-convert');\n",
              "        buttonEl.style.display =\n",
              "          google.colab.kernel.accessAllowed ? 'block' : 'none';\n",
              "\n",
              "        async function convertToInteractive(key) {\n",
              "          const element = document.querySelector('#df-648671bb-d401-4fbd-b7b7-2bc8a5286e77');\n",
              "          const dataTable =\n",
              "            await google.colab.kernel.invokeFunction('convertToInteractive',\n",
              "                                                     [key], {});\n",
              "          if (!dataTable) return;\n",
              "\n",
              "          const docLinkHtml = 'Like what you see? Visit the ' +\n",
              "            '<a target=\"_blank\" href=https://colab.research.google.com/notebooks/data_table.ipynb>data table notebook</a>'\n",
              "            + ' to learn more about interactive tables.';\n",
              "          element.innerHTML = '';\n",
              "          dataTable['output_type'] = 'display_data';\n",
              "          await google.colab.output.renderOutput(dataTable, element);\n",
              "          const docLink = document.createElement('div');\n",
              "          docLink.innerHTML = docLinkHtml;\n",
              "          element.appendChild(docLink);\n",
              "        }\n",
              "      </script>\n",
              "    </div>\n",
              "  </div>\n",
              "  "
            ]
          },
          "metadata": {},
          "execution_count": 25
        }
      ]
    },
    {
      "cell_type": "code",
      "source": [
        "print(\"The artist with the most tracks:\")\n",
        "output_df['featured'].idxmax()"
      ],
      "metadata": {
        "colab": {
          "base_uri": "https://localhost:8080/",
          "height": 53
        },
        "id": "85M5iMEkRhIG",
        "outputId": "187e5066-89c6-4464-d7f7-a4dfe43a3f8b"
      },
      "execution_count": 31,
      "outputs": [
        {
          "output_type": "stream",
          "name": "stdout",
          "text": [
            "The artist with the most songs:\n"
          ]
        },
        {
          "output_type": "execute_result",
          "data": {
            "text/plain": [
              "'eminem'"
            ],
            "application/vnd.google.colaboratory.intrinsic+json": {
              "type": "string"
            }
          },
          "metadata": {},
          "execution_count": 31
        }
      ]
    },
    {
      "cell_type": "code",
      "source": [
        "print(\"The artist with the most duration:\")\n",
        "output_df['duration'].idxmax()"
      ],
      "metadata": {
        "colab": {
          "base_uri": "https://localhost:8080/",
          "height": 53
        },
        "id": "KTZY_raDRkm2",
        "outputId": "fb07255b-38d2-49e5-eff8-64997fe3d66b"
      },
      "execution_count": 33,
      "outputs": [
        {
          "output_type": "stream",
          "name": "stdout",
          "text": [
            "The artist with the most duration:\n"
          ]
        },
        {
          "output_type": "execute_result",
          "data": {
            "text/plain": [
              "'kendrick lamar'"
            ],
            "application/vnd.google.colaboratory.intrinsic+json": {
              "type": "string"
            }
          },
          "metadata": {},
          "execution_count": 33
        }
      ]
    },
    {
      "cell_type": "code",
      "source": [
        "print(\"The artist with the most playlists:\")\n",
        "output_df['playlists'].idxmax()"
      ],
      "metadata": {
        "colab": {
          "base_uri": "https://localhost:8080/",
          "height": 53
        },
        "id": "yE9hOG7XTD0F",
        "outputId": "343b1766-9503-4288-ee3c-2ca902794a51"
      },
      "execution_count": 34,
      "outputs": [
        {
          "output_type": "stream",
          "name": "stdout",
          "text": [
            "The artist with the most playlists:\n"
          ]
        },
        {
          "output_type": "execute_result",
          "data": {
            "text/plain": [
              "'kendrick lamar'"
            ],
            "application/vnd.google.colaboratory.intrinsic+json": {
              "type": "string"
            }
          },
          "metadata": {},
          "execution_count": 34
        }
      ]
    }
  ]
}